{
 "cells": [
  {
   "cell_type": "markdown",
   "id": "c1b82969-2e03-4ecd-b386-71423086c74d",
   "metadata": {},
   "source": [
    "\n",
    "1. Write a program that takes a number as input and prints whether it is even or odd."
   ]
  },
  {
   "cell_type": "code",
   "execution_count": 3,
   "id": "bd5a62fb-eb11-47e6-b617-1d58592ceddd",
   "metadata": {},
   "outputs": [
    {
     "name": "stdin",
     "output_type": "stream",
     "text": [
      "please enter a number: 8\n"
     ]
    },
    {
     "name": "stdout",
     "output_type": "stream",
     "text": [
      "8 is a even number:\n"
     ]
    }
   ],
   "source": [
    "a = int(input(\"please enter a number:\"))\n",
    "if a % 2 == 0:\n",
    "    print( a, \"is a even number:\")\n",
    "else:\n",
    "    print(a,\"is a odd number:\")"
   ]
  },
  {
   "cell_type": "markdown",
   "id": "358b80b5-d198-4c89-89a4-0e62170c27b1",
   "metadata": {},
   "source": [
    "2. Positive, Negative, or Zero\n",
    "Take a number from the user and print whether it is positive, negative, or zero."
   ]
  },
  {
   "cell_type": "code",
   "execution_count": 4,
   "id": "616a0cdc-6881-487f-960c-76f007b27b60",
   "metadata": {},
   "outputs": [
    {
     "name": "stdin",
     "output_type": "stream",
     "text": [
      "please enter a value 7\n"
     ]
    },
    {
     "name": "stdout",
     "output_type": "stream",
     "text": [
      " the value is positive\n"
     ]
    }
   ],
   "source": [
    "val = int(input(\"please enter a value\"))\n",
    "\n",
    "if val > 0:\n",
    "    print(\" the value is positive\")\n",
    "elif val < 0:\n",
    "    print(\"the value is negative\")\n",
    "else :\n",
    "    print(\"the value is zero\")\n",
    "    "
   ]
  },
  {
   "cell_type": "markdown",
   "id": "6a73caa6-91f5-4ffe-b318-b8fefe376676",
   "metadata": {},
   "source": [
    "3. Ask the user for their age and print whether they are eligible to vote (18 or older)."
   ]
  },
  {
   "cell_type": "code",
   "execution_count": 6,
   "id": "d1706602-27eb-4c98-8754-4cb3d87c042d",
   "metadata": {},
   "outputs": [
    {
     "name": "stdin",
     "output_type": "stream",
     "text": [
      "enter your age: 19\n"
     ]
    },
    {
     "name": "stdout",
     "output_type": "stream",
     "text": [
      "you are eligible to vote\n"
     ]
    }
   ],
   "source": [
    "n = int(input(\"enter your age:\"))\n",
    "\n",
    "if n > 18 :\n",
    "    print(\"you are eligible to vote\")\n",
    "else :\n",
    "    print(\"you are not eligible to vote\")"
   ]
  },
  {
   "cell_type": "markdown",
   "id": "bdb5bc91-0031-4d5f-ad00-f909d7bc900e",
   "metadata": {},
   "source": [
    "4. Write a program to find the larger of two numbers entered by the user."
   ]
  },
  {
   "cell_type": "code",
   "execution_count": 13,
   "id": "7e22e766-6247-4117-af4f-5652cb7f2bb1",
   "metadata": {},
   "outputs": [
    {
     "name": "stdin",
     "output_type": "stream",
     "text": [
      "please enter a value 45\n",
      "please enter a value 95\n"
     ]
    },
    {
     "name": "stdout",
     "output_type": "stream",
     "text": [
      "95 is the largest\n"
     ]
    }
   ],
   "source": [
    "val1 = int(input(\"please enter a value\"))\n",
    "val2 = int(input(\"please enter a value\"))\n",
    "\n",
    "if val1 > val2 :\n",
    "    print( val1,\"is the largest\")\n",
    "else:\n",
    "    print(val2,\"is the largest\")"
   ]
  },
  {
   "cell_type": "markdown",
   "id": "88dd7038-6b05-4c74-b317-71c327ab8f1f",
   "metadata": {},
   "source": [
    "5. Ask the user to enter a mark (0–100). Print:\n",
    "\"Fail\" if below 40\n",
    "\"Pass\" if 40–59\n",
    "\"Good\" if 60–79\n",
    "\"Excellent\" if 80–100\n",
    "\"Invalid mark\" otherwise"
   ]
  },
  {
   "cell_type": "code",
   "execution_count": 16,
   "id": "51d6f2a0-3c7b-46d7-aee6-e9a262d2fb89",
   "metadata": {},
   "outputs": [
    {
     "name": "stdin",
     "output_type": "stream",
     "text": [
      "please enter marks:  89\n"
     ]
    },
    {
     "name": "stdout",
     "output_type": "stream",
     "text": [
      "Excellent-keep it up\n"
     ]
    }
   ],
   "source": [
    "m = int(input(\"please enter marks: \"))\n",
    "\n",
    "if m < 40:\n",
    "    print(\"Fail\")\n",
    "elif m >= 40 and m <= 59:\n",
    "    print(\"Pass - work hard\")\n",
    "elif m >= 60 and m <= 79:\n",
    "    print(\"Good - work hard\")\n",
    "elif m >= 80 and m <= 100:\n",
    "    print(\"Excellent-keep it up\")\n",
    "else:\n",
    "    print(\"Invalid mark\")\n"
   ]
  },
  {
   "cell_type": "markdown",
   "id": "e6370797-f507-4e6e-b849-b057dee00e69",
   "metadata": {},
   "source": [
    "6. Ask the user to enter a year and check if it's a leap year or not."
   ]
  },
  {
   "cell_type": "code",
   "execution_count": 18,
   "id": "7f928aa6-4137-4586-9839-e28940cda66b",
   "metadata": {},
   "outputs": [
    {
     "name": "stdin",
     "output_type": "stream",
     "text": [
      "Enter a year:  2004\n"
     ]
    },
    {
     "name": "stdout",
     "output_type": "stream",
     "text": [
      "2004 is a leap year\n"
     ]
    }
   ],
   "source": [
    "year = int(input(\"Enter a year: \"))\n",
    "\n",
    "if (year % 400 == 0) or (year % 4 == 0 and year % 100 != 0):\n",
    "    print(year, \"is a leap year\")\n",
    "else:\n",
    "    print(year, \"is not a leap year\")\n"
   ]
  },
  {
   "cell_type": "markdown",
   "id": "258b278a-4f08-469e-ad0e-b52e9d5d8638",
   "metadata": {},
   "source": [
    "7. Ask the user to enter a password and check if it matches \"OpenAI123\".\n",
    "\n",
    "If yes, print \"Access granted\"\n",
    "\n",
    "If not, print \"Incorrect password\""
   ]
  },
  {
   "cell_type": "code",
   "execution_count": 20,
   "id": "43ac6a3d-c0d4-4592-95c9-0c1fe040ce95",
   "metadata": {},
   "outputs": [
    {
     "name": "stdin",
     "output_type": "stream",
     "text": [
      "please enter password open123\n"
     ]
    },
    {
     "name": "stdout",
     "output_type": "stream",
     "text": [
      "access granted\n"
     ]
    }
   ],
   "source": [
    "n = str(input(\"please enter password\"))\n",
    "\n",
    "if n == \"open123\":\n",
    "    print(\"access granted\")\n",
    "else :\n",
    "    print(\"Incorrect password\")"
   ]
  },
  {
   "cell_type": "markdown",
   "id": "ae73c4e8-10fb-470e-b512-094d4f0293f8",
   "metadata": {},
   "source": [
    "8. Write a program that checks:\n",
    "\n",
    "If a number is divisible by both 3 and 5 → print \"FizzBuzz\"\n",
    "\n",
    "If only divisible by 3 → print \"Fizz\"\n",
    "\n",
    "If only divisible by 5 → print \"Buzz\"\n",
    "\n",
    "Otherwise → print the number"
   ]
  },
  {
   "cell_type": "code",
   "execution_count": 26,
   "id": "a9061fb8-f348-4106-bb33-5e6d5011bfd2",
   "metadata": {},
   "outputs": [
    {
     "name": "stdin",
     "output_type": "stream",
     "text": [
      "enter a number: 15\n"
     ]
    },
    {
     "name": "stdout",
     "output_type": "stream",
     "text": [
      "FizzBuzz\n"
     ]
    }
   ],
   "source": [
    "n = int(input(\"enter a number:\"))\n",
    "\n",
    "if n % 3 == 0 and n % 5 == 0 :\n",
    "    print(\"FizzBuzz\")\n",
    "elif n % 3 == 0 :\n",
    "    print (\"Fizz\")\n",
    "elif n % 5 == 0:\n",
    "    print(\"Buzz\")\n",
    "else:\n",
    "    print(n)"
   ]
  },
  {
   "cell_type": "markdown",
   "id": "1858feae-b03c-4b51-8698-26525555e3f4",
   "metadata": {},
   "source": [
    "9. Take 3 sides of a triangle as input and determine whether it’s:\n",
    "\n",
    "Equilateral (all sides equal)\n",
    "\n",
    "Isosceles (two sides equal)\n",
    "\n",
    "Scalene (all sides different)"
   ]
  },
  {
   "cell_type": "code",
   "execution_count": 35,
   "id": "d0e51bea-9817-4691-9aab-2bcefb4d8cf5",
   "metadata": {},
   "outputs": [
    {
     "name": "stdin",
     "output_type": "stream",
     "text": [
      "please enter length of side1: 9\n",
      "please enter length of side2: 9\n",
      "please enter length of side3: 9\n"
     ]
    },
    {
     "name": "stdout",
     "output_type": "stream",
     "text": [
      "it is Equilateral triangle\n"
     ]
    }
   ],
   "source": [
    "side1 = int(input(\"please enter length of side1:\"))\n",
    "side2 = int(input(\"please enter length of side2:\"))\n",
    "side3 = int(input(\"please enter length of side3:\"))\n",
    "\n",
    "if (side1 + side2 > side3) and (side2 + side3 > side1) and (side1 + side3 > side2): #Rule: For a valid triangle, the sum of any two sides must be greater than the third.\n",
    "    if side1 == side2 == side3 :\n",
    "        print (\"it is Equilateral triangle\")\n",
    "    elif side1 == side2 or side2 == side3 or side3 == side1 :\n",
    "        print(\"it is Isosceles triangle\")\n",
    "    else:\n",
    "        print(\"it is scalene\")\n"
   ]
  },
  {
   "cell_type": "markdown",
   "id": "dd39b170-894a-426e-b9c0-272ddcd4f264",
   "metadata": {},
   "source": [
    "10. Ask the user to enter the current hour (0–23), and display:\n",
    "\n",
    "\"Good Morning\" (5–11)\n",
    "\n",
    "\"Good Afternoon\" (12–16)\n",
    "\n",
    "\"Good Evening\" (17–20)\n",
    "\n",
    "\"Good Night\" (21–4)"
   ]
  },
  {
   "cell_type": "code",
   "execution_count": 36,
   "id": "c4c7cc51-78ad-4a45-b583-ff97f3a420ec",
   "metadata": {},
   "outputs": [
    {
     "name": "stdin",
     "output_type": "stream",
     "text": [
      "Enter the current hour (0-23):  8\n"
     ]
    },
    {
     "name": "stdout",
     "output_type": "stream",
     "text": [
      "Good Morning\n"
     ]
    }
   ],
   "source": [
    "hour = int(input(\"Enter the current hour (0-23): \"))\n",
    "\n",
    "if 5 <= hour <= 11:\n",
    "    print(\"Good Morning\")\n",
    "elif 12 <= hour <= 16:\n",
    "    print(\"Good Afternoon\")\n",
    "elif 17 <= hour <= 20:\n",
    "    print(\"Good Evening\")\n",
    "elif (21 <= hour <= 23) or (0 <= hour <= 4):\n",
    "    print(\"Good Night\")\n",
    "else:\n",
    "    print(\"Invalid hour\")\n"
   ]
  },
  {
   "cell_type": "code",
   "execution_count": null,
   "id": "f830e3cb-bfd3-432b-bb01-ee06c4d99066",
   "metadata": {},
   "outputs": [],
   "source": []
  }
 ],
 "metadata": {
  "kernelspec": {
   "display_name": "Python 3 (ipykernel)",
   "language": "python",
   "name": "python3"
  },
  "language_info": {
   "codemirror_mode": {
    "name": "ipython",
    "version": 3
   },
   "file_extension": ".py",
   "mimetype": "text/x-python",
   "name": "python",
   "nbconvert_exporter": "python",
   "pygments_lexer": "ipython3",
   "version": "3.12.1"
  }
 },
 "nbformat": 4,
 "nbformat_minor": 5
}
