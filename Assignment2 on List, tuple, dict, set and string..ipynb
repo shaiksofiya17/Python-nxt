{
 "cells": [
  {
   "cell_type": "markdown",
   "id": "ba2a4a8c-723a-4aca-8ed3-65e146f229be",
   "metadata": {},
   "source": [
    "1. Create a string variable and print its length."
   ]
  },
  {
   "cell_type": "code",
   "execution_count": 4,
   "id": "f7d7ffb9-8089-40b6-a080-1391e788cea9",
   "metadata": {},
   "outputs": [
    {
     "data": {
      "text/plain": [
       "6"
      ]
     },
     "execution_count": 4,
     "metadata": {},
     "output_type": "execute_result"
    }
   ],
   "source": [
    "x = \"sofiya\"\n",
    "len(x)"
   ]
  },
  {
   "cell_type": "markdown",
   "id": "f2c196cf-f687-4757-8ff2-173c662b7a70",
   "metadata": {},
   "source": [
    "2. Take a string input from the user and print it in reverse."
   ]
  },
  {
   "cell_type": "code",
   "execution_count": 5,
   "id": "8c87e795-894e-4b72-b34e-a2ba6b89859e",
   "metadata": {},
   "outputs": [
    {
     "data": {
      "text/plain": [
       "'txnmia'"
      ]
     },
     "execution_count": 5,
     "metadata": {},
     "output_type": "execute_result"
    }
   ],
   "source": [
    "s = \"aimnxt\"\n",
    "s[::-1]"
   ]
  },
  {
   "cell_type": "markdown",
   "id": "a5ef886b-77d5-4665-9a8c-37183da541b5",
   "metadata": {},
   "source": [
    "3. Replace all occurrences of \"a\" with \"@\" in a given string.\n"
   ]
  },
  {
   "cell_type": "code",
   "execution_count": 11,
   "id": "73586f8d-48c1-4a43-9ff3-58ffe6176933",
   "metadata": {},
   "outputs": [
    {
     "data": {
      "text/plain": [
       "'d@t@science in @imnxt'"
      ]
     },
     "execution_count": 11,
     "metadata": {},
     "output_type": "execute_result"
    }
   ],
   "source": [
    "s = \"datascience in aimnxt\"\n",
    "s.replace(\"a\" ,\"@\")"
   ]
  },
  {
   "cell_type": "markdown",
   "id": "d7858baf-3e57-4674-8de3-caf38adacdfd",
   "metadata": {},
   "source": [
    "4. Convert a string to all uppercase letters using a loop (without .upper()).\n"
   ]
  },
  {
   "cell_type": "code",
   "execution_count": 13,
   "id": "c7ad0f90-262f-4138-8283-83c9685d63a2",
   "metadata": {},
   "outputs": [
    {
     "data": {
      "text/plain": [
       "'SOFIYA SHAIK'"
      ]
     },
     "execution_count": 13,
     "metadata": {},
     "output_type": "execute_result"
    }
   ],
   "source": [
    "s = \"sofiya shaik\"\n",
    "s.upper()"
   ]
  },
  {
   "cell_type": "markdown",
   "id": "5791ad26-3446-44f8-8b73-dc2de58b8af6",
   "metadata": {},
   "source": [
    "5. Count how many times the letter \"e\" appears in a string."
   ]
  },
  {
   "cell_type": "code",
   "execution_count": 15,
   "id": "26d16c2e-da06-42f0-9f06-7b86895ffb45",
   "metadata": {},
   "outputs": [
    {
     "data": {
      "text/plain": [
       "5"
      ]
     },
     "execution_count": 15,
     "metadata": {},
     "output_type": "execute_result"
    }
   ],
   "source": [
    "s = \"i lovee eating icecream\"\n",
    "s.count(\"e\")"
   ]
  },
  {
   "cell_type": "markdown",
   "id": "bbcda295-3e3f-447b-b14b-17254d47c1fd",
   "metadata": {},
   "source": [
    "6. Print the first and last character of a given string."
   ]
  },
  {
   "cell_type": "code",
   "execution_count": 23,
   "id": "f17b8d3a-c7ad-4f48-ae1b-139ab0442f9a",
   "metadata": {},
   "outputs": [
    {
     "data": {
      "text/plain": [
       "'d'"
      ]
     },
     "execution_count": 23,
     "metadata": {},
     "output_type": "execute_result"
    }
   ],
   "source": [
    "s = \"data science\"\n",
    "s[0] \n"
   ]
  },
  {
   "cell_type": "code",
   "execution_count": 24,
   "id": "7f619d46-038b-4511-8e3f-e11aeace2670",
   "metadata": {},
   "outputs": [
    {
     "data": {
      "text/plain": [
       "'e'"
      ]
     },
     "execution_count": 24,
     "metadata": {},
     "output_type": "execute_result"
    }
   ],
   "source": [
    "s[-1]"
   ]
  },
  {
   "cell_type": "markdown",
   "id": "f3f46100-41a3-4f2c-bd60-4c239d8aa65e",
   "metadata": {},
   "source": [
    "7. Concatenate two strings and print the result.\n",
    "\n",
    "8. Check if a given string contains the word \"Python\".\n",
    "\n",
    "9. Remove all spaces from a string and print the new string.\n",
    "\n",
    "10.Extract and print the first five characters of a string."
   ]
  },
  {
   "cell_type": "code",
   "execution_count": 32,
   "id": "c60af97a-1e0e-4946-a861-981db0c8154a",
   "metadata": {},
   "outputs": [
    {
     "data": {
      "text/plain": [
       "'aimnxtdata science'"
      ]
     },
     "execution_count": 32,
     "metadata": {},
     "output_type": "execute_result"
    }
   ],
   "source": [
    "s1 = \"aimnxt\"\n",
    "s2 = \"data science\"\n",
    "s1+s2\n"
   ]
  },
  {
   "cell_type": "code",
   "execution_count": 34,
   "id": "ee2d23cc-f7cf-4774-b95d-cdbf3cf5860b",
   "metadata": {},
   "outputs": [
    {
     "data": {
      "text/plain": [
       "True"
      ]
     },
     "execution_count": 34,
     "metadata": {},
     "output_type": "execute_result"
    }
   ],
   "source": [
    "s = \"im learning python\"\n",
    "\"python\" in s "
   ]
  },
  {
   "cell_type": "code",
   "execution_count": 44,
   "id": "3e145545-3b90-45e1-8c1c-8604b590da49",
   "metadata": {},
   "outputs": [
    {
     "data": {
      "text/plain": [
       "'heyimsofiya'"
      ]
     },
     "execution_count": 44,
     "metadata": {},
     "output_type": "execute_result"
    }
   ],
   "source": [
    "s = \"hey im sofiya\"\n",
    "s.replace(\" \", \"\")"
   ]
  },
  {
   "cell_type": "code",
   "execution_count": 43,
   "id": "74358e12-857a-49c2-8224-db73de12618f",
   "metadata": {},
   "outputs": [
    {
     "data": {
      "text/plain": [
       "'aimnx'"
      ]
     },
     "execution_count": 43,
     "metadata": {},
     "output_type": "execute_result"
    }
   ],
   "source": [
    "s = \"aimnxt in hyd\"\n",
    "s[0:5]"
   ]
  },
  {
   "cell_type": "markdown",
   "id": "5304dd40-4f1d-46b7-b60c-dee9d3038aad",
   "metadata": {},
   "source": [
    "11.Create a list of five numbers and print the list.\n",
    "\n",
    "12.Print the third element of a given list.\n",
    "\n",
    "13.Replace the second element of a list with \"hello\".\n",
    "\n",
    "14.Add a new element to the end of a list.\n",
    "\n",
    "15.Remove the last element from a list and print the modified list."
   ]
  },
  {
   "cell_type": "code",
   "execution_count": 79,
   "id": "3383bbbd-0fc1-4aed-bbec-ca4a63754ba5",
   "metadata": {},
   "outputs": [
    {
     "name": "stdout",
     "output_type": "stream",
     "text": [
      "[1, 2, 3, 4, 5]\n"
     ]
    }
   ],
   "source": [
    "l = [1,2,3,4,5]\n",
    "print(l)"
   ]
  },
  {
   "cell_type": "code",
   "execution_count": 80,
   "id": "2bc1e002-4ef0-47d8-b9d0-380bfe277eb9",
   "metadata": {},
   "outputs": [
    {
     "data": {
      "text/plain": [
       "4"
      ]
     },
     "execution_count": 80,
     "metadata": {},
     "output_type": "execute_result"
    }
   ],
   "source": [
    "l[3]"
   ]
  },
  {
   "cell_type": "code",
   "execution_count": 81,
   "id": "f0a5f620-b313-430d-ba96-eb4f4f579a52",
   "metadata": {},
   "outputs": [],
   "source": [
    "l [3] = 6"
   ]
  },
  {
   "cell_type": "code",
   "execution_count": 82,
   "id": "895a694b-e6a4-4dd4-8a61-228c464525f4",
   "metadata": {},
   "outputs": [
    {
     "data": {
      "text/plain": [
       "[1, 2, 3, 6, 5]"
      ]
     },
     "execution_count": 82,
     "metadata": {},
     "output_type": "execute_result"
    }
   ],
   "source": [
    "l"
   ]
  },
  {
   "cell_type": "code",
   "execution_count": 83,
   "id": "aee51af6-2a4b-4652-96e5-fe907c7d6ebd",
   "metadata": {},
   "outputs": [],
   "source": [
    "l.append(9)"
   ]
  },
  {
   "cell_type": "code",
   "execution_count": 84,
   "id": "05b3e0b2-7c78-45d1-a602-511445aea49a",
   "metadata": {},
   "outputs": [
    {
     "data": {
      "text/plain": [
       "[1, 2, 3, 6, 5, 9]"
      ]
     },
     "execution_count": 84,
     "metadata": {},
     "output_type": "execute_result"
    }
   ],
   "source": [
    "l"
   ]
  },
  {
   "cell_type": "code",
   "execution_count": 85,
   "id": "ca0333ea-7e50-4f7f-8b71-d35e3fd748a1",
   "metadata": {},
   "outputs": [
    {
     "data": {
      "text/plain": [
       "9"
      ]
     },
     "execution_count": 85,
     "metadata": {},
     "output_type": "execute_result"
    }
   ],
   "source": [
    "l.pop(5)"
   ]
  },
  {
   "cell_type": "code",
   "execution_count": 87,
   "id": "00e3e580-2ba5-481e-b062-c89eebf7d11b",
   "metadata": {},
   "outputs": [
    {
     "data": {
      "text/plain": [
       "[1, 2, 3, 6, 5]"
      ]
     },
     "execution_count": 87,
     "metadata": {},
     "output_type": "execute_result"
    }
   ],
   "source": [
    "l"
   ]
  },
  {
   "cell_type": "markdown",
   "id": "e1bee2ba-1b99-4004-b637-7dd6f063f62a",
   "metadata": {},
   "source": [
    "16.Print each element of a list one by one using a loop.\n",
    "\n",
    "17.Check if the number 10 is in a given list.\n",
    "\n",
    "18.Create two lists and join them into one.\n",
    "\n",
    "19.Print a list in reverse order without using slicing ([::-1]).\n",
    "\n",
    "20.Sort a list in ascending order without using .sort()."
   ]
  },
  {
   "cell_type": "code",
   "execution_count": 1,
   "id": "0d93a8a7-85a7-4bf1-975b-f16698585db3",
   "metadata": {},
   "outputs": [],
   "source": [
    "s = [1,2,3,4,5]     "
   ]
  },
  {
   "cell_type": "code",
   "execution_count": 2,
   "id": "de272169-6b06-43b4-abca-86847c42e20d",
   "metadata": {},
   "outputs": [
    {
     "data": {
      "text/plain": [
       "True"
      ]
     },
     "execution_count": 2,
     "metadata": {},
     "output_type": "execute_result"
    }
   ],
   "source": [
    "s = [10,20,30,40]\n",
    "10 in (s)"
   ]
  },
  {
   "cell_type": "code",
   "execution_count": 3,
   "id": "9ead3937-4b2e-47c5-8a7d-7ea6be7b6765",
   "metadata": {},
   "outputs": [
    {
     "data": {
      "text/plain": [
       "[1, 2, 3, 44, 45, 46]"
      ]
     },
     "execution_count": 3,
     "metadata": {},
     "output_type": "execute_result"
    }
   ],
   "source": [
    "s1 = [1,2,3]\n",
    "s2 = [44,45,46]\n",
    "s1 + s2"
   ]
  },
  {
   "cell_type": "code",
   "execution_count": 6,
   "id": "ae283010-c0bd-43cc-8017-b2a302ebebb4",
   "metadata": {},
   "outputs": [],
   "source": [
    "p = [1,2,3,4,5,6]"
   ]
  },
  {
   "cell_type": "code",
   "execution_count": 11,
   "id": "20beacfd-e94f-4b72-88aa-5231bced36f4",
   "metadata": {},
   "outputs": [],
   "source": [
    "p.reverse()"
   ]
  },
  {
   "cell_type": "code",
   "execution_count": 12,
   "id": "0829c518-965a-400c-9ec1-8ab6b12d32b8",
   "metadata": {},
   "outputs": [
    {
     "data": {
      "text/plain": [
       "[6, 5, 4, 3, 2, 1]"
      ]
     },
     "execution_count": 12,
     "metadata": {},
     "output_type": "execute_result"
    }
   ],
   "source": [
    "p"
   ]
  },
  {
   "cell_type": "code",
   "execution_count": null,
   "id": "c8e7684d-4ebb-4406-b45d-96d6e6b37846",
   "metadata": {},
   "outputs": [],
   "source": [
    "#not answered"
   ]
  },
  {
   "cell_type": "markdown",
   "id": "1ba0bb0d-3d8d-4ecf-b871-3e6c9e695647",
   "metadata": {},
   "source": [
    "21.Create a tuple of three colors and print it.\n",
    "\n",
    "22.Print the second element of a given tuple.\n",
    "\n",
    "23.Try changing an element in a tuple (observe the error).\n",
    "\n",
    "24.Convert a tuple to a list and print it.\n",
    "\n",
    "25.Check if \"blue\" exists in a given tuple."
   ]
  },
  {
   "cell_type": "code",
   "execution_count": 13,
   "id": "0ad12bf2-ab52-43b4-b17e-148582075a73",
   "metadata": {},
   "outputs": [
    {
     "name": "stdout",
     "output_type": "stream",
     "text": [
      "('red', 'black', 'green')\n"
     ]
    }
   ],
   "source": [
    "t = (\"red\",\"black\",\"green\")\n",
    "print(t)"
   ]
  },
  {
   "cell_type": "code",
   "execution_count": 16,
   "id": "9ffe86ae-9fff-4eaf-8a78-9b8ddda5cbb9",
   "metadata": {},
   "outputs": [
    {
     "name": "stdout",
     "output_type": "stream",
     "text": [
      "black\n"
     ]
    }
   ],
   "source": [
    "print(t[1])"
   ]
  },
  {
   "cell_type": "code",
   "execution_count": 17,
   "id": "777dd4a9-c94f-4f42-bd0c-f77166f8cbf8",
   "metadata": {},
   "outputs": [
    {
     "ename": "TypeError",
     "evalue": "'tuple' object does not support item assignment",
     "output_type": "error",
     "traceback": [
      "\u001b[31m---------------------------------------------------------------------------\u001b[39m",
      "\u001b[31mTypeError\u001b[39m                                 Traceback (most recent call last)",
      "\u001b[36mCell\u001b[39m\u001b[36m \u001b[39m\u001b[32mIn[17]\u001b[39m\u001b[32m, line 1\u001b[39m\n\u001b[32m----> \u001b[39m\u001b[32m1\u001b[39m \u001b[43mt\u001b[49m\u001b[43m[\u001b[49m\u001b[32;43m1\u001b[39;49m\u001b[43m]\u001b[49m = \u001b[33m\"\u001b[39m\u001b[33mbrown\u001b[39m\u001b[33m\"\u001b[39m\n",
      "\u001b[31mTypeError\u001b[39m: 'tuple' object does not support item assignment"
     ]
    }
   ],
   "source": [
    "t[1] = \"brown\"  #tuple is immutable"
   ]
  },
  {
   "cell_type": "code",
   "execution_count": 18,
   "id": "28764976-0882-41c1-9f7d-2ccbd274cbab",
   "metadata": {},
   "outputs": [
    {
     "data": {
      "text/plain": [
       "['red', 'black', 'green']"
      ]
     },
     "execution_count": 18,
     "metadata": {},
     "output_type": "execute_result"
    }
   ],
   "source": [
    "list(t)"
   ]
  },
  {
   "cell_type": "code",
   "execution_count": 21,
   "id": "0b6defd2-d732-4dcc-b364-0caef4273981",
   "metadata": {},
   "outputs": [
    {
     "data": {
      "text/plain": [
       "('red', 'black', 'green')"
      ]
     },
     "execution_count": 21,
     "metadata": {},
     "output_type": "execute_result"
    }
   ],
   "source": [
    "t"
   ]
  },
  {
   "cell_type": "code",
   "execution_count": 24,
   "id": "79d75387-6412-49dc-b439-ee74624e0857",
   "metadata": {},
   "outputs": [
    {
     "data": {
      "text/plain": [
       "False"
      ]
     },
     "execution_count": 24,
     "metadata": {},
     "output_type": "execute_result"
    }
   ],
   "source": [
    "\"blue\" in t"
   ]
  },
  {
   "cell_type": "markdown",
   "id": "6274b4ed-f83a-4914-babb-ec06360d5ec2",
   "metadata": {},
   "source": [
    "26.Print each element of a tuple using a loop.\n",
    "\n",
    "27.Merge two tuples and print the result.\n",
    "\n",
    "28.Print a tuple in reverse order.\n",
    "\n",
    "29.Find the length of a tuple without using len().\n",
    "\n",
    "30.Create a tuple with a single element and print its type."
   ]
  },
  {
   "cell_type": "code",
   "execution_count": 25,
   "id": "36c40f8a-5fb7-4645-b17a-a894db7776e4",
   "metadata": {},
   "outputs": [],
   "source": [
    "t1 = (\"sofi\",\"nawaz\",\"sunny\")\n",
    "t2 = (\"shaheen\",\"pyari\",\"affi\")"
   ]
  },
  {
   "cell_type": "code",
   "execution_count": 27,
   "id": "9b504973-621e-426e-bf4f-4c775aa82790",
   "metadata": {},
   "outputs": [],
   "source": [
    "t3 = t1 + t2"
   ]
  },
  {
   "cell_type": "code",
   "execution_count": 28,
   "id": "4db90d2d-381c-4d39-adc0-4a882b856daa",
   "metadata": {},
   "outputs": [
    {
     "data": {
      "text/plain": [
       "('sofi', 'nawaz', 'sunny', 'shaheen', 'pyari', 'affi')"
      ]
     },
     "execution_count": 28,
     "metadata": {},
     "output_type": "execute_result"
    }
   ],
   "source": [
    "t3"
   ]
  },
  {
   "cell_type": "code",
   "execution_count": 29,
   "id": "539d1af0-4302-4f67-9335-c26c60648bdd",
   "metadata": {},
   "outputs": [
    {
     "ename": "AttributeError",
     "evalue": "'tuple' object has no attribute 'reverse'",
     "output_type": "error",
     "traceback": [
      "\u001b[31m---------------------------------------------------------------------------\u001b[39m",
      "\u001b[31mAttributeError\u001b[39m                            Traceback (most recent call last)",
      "\u001b[36mCell\u001b[39m\u001b[36m \u001b[39m\u001b[32mIn[29]\u001b[39m\u001b[32m, line 1\u001b[39m\n\u001b[32m----> \u001b[39m\u001b[32m1\u001b[39m \u001b[43mt3\u001b[49m\u001b[43m.\u001b[49m\u001b[43mreverse\u001b[49m()\n",
      "\u001b[31mAttributeError\u001b[39m: 'tuple' object has no attribute 'reverse'"
     ]
    }
   ],
   "source": [
    "t3.reverse() #tuples are immutable"
   ]
  },
  {
   "cell_type": "code",
   "execution_count": 30,
   "id": "e06feeae-4033-411d-ade8-db508be3b800",
   "metadata": {},
   "outputs": [
    {
     "data": {
      "text/plain": [
       "6"
      ]
     },
     "execution_count": 30,
     "metadata": {},
     "output_type": "execute_result"
    }
   ],
   "source": [
    "len(t3)"
   ]
  },
  {
   "cell_type": "code",
   "execution_count": 31,
   "id": "118b2016-791b-4eb7-8162-9da5e788ca1c",
   "metadata": {},
   "outputs": [
    {
     "data": {
      "text/plain": [
       "str"
      ]
     },
     "execution_count": 31,
     "metadata": {},
     "output_type": "execute_result"
    }
   ],
   "source": [
    "t = (\"saniya\")\n",
    "type(t)"
   ]
  },
  {
   "cell_type": "markdown",
   "id": "9eb11e06-decd-47c2-ba44-c3514d44df4d",
   "metadata": {},
   "source": [
    "31.Create a string \"Hello, World!\" and print only \"World!\".\n",
    "\n",
    "32.Convert \"Python is fun\" to \"PYTHON IS FUN\" without using .upper().\n",
    "\n",
    "33.Count how many words are in \"I love learning Python\" (without using .split()).\n",
    "\n",
    "34.Take a string input from the user and check if it starts with \"Hello\".\n",
    "\n"
   ]
  },
  {
   "cell_type": "code",
   "execution_count": 32,
   "id": "a0af4250-b2c8-46dc-9b98-f3d21950f996",
   "metadata": {},
   "outputs": [
    {
     "name": "stdout",
     "output_type": "stream",
     "text": [
      "world\n"
     ]
    }
   ],
   "source": [
    "s = \"Hello ,world\"\n",
    "print(s[7:])"
   ]
  },
  {
   "cell_type": "code",
   "execution_count": 2,
   "id": "8b0a6ff7-0e4b-4114-840a-edb7f0651246",
   "metadata": {},
   "outputs": [
    {
     "name": "stdout",
     "output_type": "stream",
     "text": [
      "PYTHON IS FUN\n"
     ]
    }
   ],
   "source": [
    "#32\n",
    "text = \"Python is fun\"\n",
    "result = \"\"\n",
    "for c in text:\n",
    "    result += c if not c.islower() else c.swapcase()\n",
    "print(result)\n"
   ]
  },
  {
   "cell_type": "code",
   "execution_count": 35,
   "id": "ebbfa6ce-c1a3-435c-ae67-c5b182cd048d",
   "metadata": {},
   "outputs": [
    {
     "data": {
      "text/plain": [
       "4"
      ]
     },
     "execution_count": 35,
     "metadata": {},
     "output_type": "execute_result"
    }
   ],
   "source": [
    "l = \"i love learning python\"\n",
    "l.count(\" \") + 1"
   ]
  },
  {
   "cell_type": "code",
   "execution_count": 1,
   "id": "c40c735f-df04-4b80-91c6-9f78a5fc0345",
   "metadata": {},
   "outputs": [
    {
     "name": "stdin",
     "output_type": "stream",
     "text": [
      "Enter a string:  fxfsr\n"
     ]
    },
    {
     "name": "stdout",
     "output_type": "stream",
     "text": [
      "No, it doesn't start with Hello\n"
     ]
    }
   ],
   "source": [
    "text = input(\"Enter a string: \")\n",
    "if text[:5] == \"Hello\":\n",
    "    print(\"Yes, it starts with Hello\")\n",
    "else:\n",
    "    print(\"No, it doesn't start with Hello\")\n"
   ]
  },
  {
   "cell_type": "code",
   "execution_count": null,
   "id": "64611cc7-0abf-4b18-b1ba-d97209923900",
   "metadata": {},
   "outputs": [],
   "source": []
  },
  {
   "cell_type": "markdown",
   "id": "152aa315-8408-496d-94c2-d2af80150c44",
   "metadata": {},
   "source": [
    "\n",
    "35.Print every second character of a string.\n",
    "\n",
    "36.Replace all vowels in a string with \"*\".\n",
    "\n",
    "37.Swap the first and last character of a string.\n",
    "\n",
    "38.Check if two given strings are the same (case-sensitive).\n",
    "\n",
    "39.Print a string without the first and last character.\n",
    "\n",
    "40.Convert a string \"12345\" into a list of individual characters."
   ]
  },
  {
   "cell_type": "code",
   "execution_count": 42,
   "id": "e150a954-c9c3-4244-b9eb-5cc720db83b7",
   "metadata": {},
   "outputs": [
    {
     "data": {
      "text/plain": [
       "'hyteei oia'"
      ]
     },
     "execution_count": 42,
     "metadata": {},
     "output_type": "execute_result"
    }
   ],
   "source": [
    "s = \"hey there im sofiya\"\n",
    "s[0::2]"
   ]
  },
  {
   "cell_type": "code",
   "execution_count": 3,
   "id": "2e528f7c-ba98-4413-838f-0f6b8aa31d80",
   "metadata": {},
   "outputs": [
    {
     "name": "stdout",
     "output_type": "stream",
     "text": [
      "Pyth*n *s f*n\n"
     ]
    }
   ],
   "source": [
    "#36\n",
    "text = \"Python is fun\"\n",
    "vowels = \"aeiouAEIOU\"\n",
    "result = \"\".join(\"*\" if c in vowels else c for c in text)\n",
    "print(result)\n"
   ]
  },
  {
   "cell_type": "code",
   "execution_count": 4,
   "id": "b26adda9-91c5-44fb-a0cd-1bf8341deb2c",
   "metadata": {},
   "outputs": [
    {
     "name": "stdout",
     "output_type": "stream",
     "text": [
      "nythoP\n"
     ]
    }
   ],
   "source": [
    "#37\n",
    "text = \"Python\"\n",
    "result = text[-1] + text[1:-1] + text[0] if len(text) > 1 else text\n",
    "print(result)\n"
   ]
  },
  {
   "cell_type": "code",
   "execution_count": 44,
   "id": "86475427-b334-4a17-bd42-5f1da0de5f30",
   "metadata": {},
   "outputs": [
    {
     "name": "stdout",
     "output_type": "stream",
     "text": [
      "False\n"
     ]
    }
   ],
   "source": [
    "s1 = \"hello\"\n",
    "s2 = \"Hello\"\n",
    "print(s1 == s2)"
   ]
  },
  {
   "cell_type": "code",
   "execution_count": 45,
   "id": "fe6c9a3f-73cc-442a-b793-ca8354a26021",
   "metadata": {},
   "outputs": [
    {
     "name": "stdout",
     "output_type": "stream",
     "text": [
      "ytho\n"
     ]
    }
   ],
   "source": [
    "s = \"python\"\n",
    "print(s[1:-1])"
   ]
  },
  {
   "cell_type": "code",
   "execution_count": 46,
   "id": "d8f89c89-3b5a-4abb-aa7d-6ba89e82a5bd",
   "metadata": {},
   "outputs": [
    {
     "data": {
      "text/plain": [
       "['1', '2', '3', '4', '5']"
      ]
     },
     "execution_count": 46,
     "metadata": {},
     "output_type": "execute_result"
    }
   ],
   "source": [
    "s = \"12345\"\n",
    "list(s)"
   ]
  },
  {
   "cell_type": "markdown",
   "id": "668bd78d-6466-44a9-b329-da186708e17d",
   "metadata": {},
   "source": [
    "41.Create a list of five cities and print only the last three.\n",
    "\n",
    "42.Remove the middle element from a list of five elements.\n",
    "\n",
    "43.Take five numbers from the user and store them in a list.\n",
    "\n",
    "44.Find the index of \"apple\" in the list [\"banana\", \"orange\", \"apple\", \"grape\"].\n",
    "\n",
    "45.Print only the even numbers from a given list.\n",
    "\n"
   ]
  },
  {
   "cell_type": "code",
   "execution_count": 63,
   "id": "b3322054-eb01-43d1-a95c-e111af343334",
   "metadata": {},
   "outputs": [
    {
     "data": {
      "text/plain": [
       "['kurnool', 'chennai', 'vizag']"
      ]
     },
     "execution_count": 63,
     "metadata": {},
     "output_type": "execute_result"
    }
   ],
   "source": [
    "f = [\"banglore\",\"baroda\",\"kurnool\",\"chennai\",\"vizag\"]\n",
    "f[2:5]"
   ]
  },
  {
   "cell_type": "code",
   "execution_count": 64,
   "id": "3982e8be-fb94-46f6-af32-9f12bb117d83",
   "metadata": {},
   "outputs": [
    {
     "data": {
      "text/plain": [
       "['banglore', 'baroda', 'kurnool', 'chennai', 'vizag']"
      ]
     },
     "execution_count": 64,
     "metadata": {},
     "output_type": "execute_result"
    }
   ],
   "source": [
    "f"
   ]
  },
  {
   "cell_type": "code",
   "execution_count": 65,
   "id": "4b6b2511-5cf9-4a49-b81a-94d406b1d906",
   "metadata": {},
   "outputs": [],
   "source": [
    "f.remove(\"kurnool\")"
   ]
  },
  {
   "cell_type": "code",
   "execution_count": 66,
   "id": "c93fe3d8-984a-4e66-9b89-1efe926b59df",
   "metadata": {},
   "outputs": [
    {
     "data": {
      "text/plain": [
       "['banglore', 'baroda', 'chennai', 'vizag']"
      ]
     },
     "execution_count": 66,
     "metadata": {},
     "output_type": "execute_result"
    }
   ],
   "source": [
    "f"
   ]
  },
  {
   "cell_type": "code",
   "execution_count": 6,
   "id": "fb04af47-1d6f-4f8d-adb5-a7393fe6a6d9",
   "metadata": {},
   "outputs": [
    {
     "name": "stdin",
     "output_type": "stream",
     "text": [
      "Enter a number:  7\n",
      "Enter a number:  8\n",
      "Enter a number:  7\n",
      "Enter a number:  6\n",
      "Enter a number:  4\n",
      "Enter a number:  5\n",
      "Enter a number:  5\n"
     ]
    },
    {
     "name": "stdout",
     "output_type": "stream",
     "text": [
      "[7, 8, 7, 6, 4, 5, 5]\n"
     ]
    }
   ],
   "source": [
    "l1 = []\n",
    "for i in range(7):\n",
    "    n = int(input(\"Enter a number: \"))\n",
    "    l1.append(n)\n",
    "print(l1)\n"
   ]
  },
  {
   "cell_type": "code",
   "execution_count": 69,
   "id": "14ecedef-8332-4f47-83ab-ba9cc4d03b81",
   "metadata": {},
   "outputs": [
    {
     "data": {
      "text/plain": [
       "2"
      ]
     },
     "execution_count": 69,
     "metadata": {},
     "output_type": "execute_result"
    }
   ],
   "source": [
    "m = [\"banana\", \"orange\", \"apple\", \"grape\"]\n",
    "m.index(\"apple\")"
   ]
  },
  {
   "cell_type": "code",
   "execution_count": 70,
   "id": "be612503-a367-4be5-8e52-13fe02518275",
   "metadata": {},
   "outputs": [
    {
     "name": "stdout",
     "output_type": "stream",
     "text": [
      "2\n",
      "4\n",
      "6\n",
      "8\n"
     ]
    }
   ],
   "source": [
    "lst = [1,2,3,4,5,6,7,8]\n",
    "for n in lst:\n",
    "    if n % 2 == 0:\n",
    "        print(n)\n"
   ]
  },
  {
   "cell_type": "markdown",
   "id": "cf62f244-c9d6-4f07-85e1-e793ee285e87",
   "metadata": {},
   "source": [
    "46.Reverse a list by swapping elements (without [::-1]).\n",
    "\n",
    "47.Create a list of ten numbers and print only the unique elements.\n",
    "\n",
    "48.Print the sum of all elements in a list (without using sum()).\n",
    "\n",
    "49.Move the first element of a list to the last position.\n",
    "\n",
    "50.Create a list with mixed data types (int, float, string) and print each element with its type."
   ]
  },
  {
   "cell_type": "code",
   "execution_count": 77,
   "id": "b69fc024-6cb7-4071-b3f4-0f81db0d9a97",
   "metadata": {},
   "outputs": [],
   "source": [
    "s = [4,5,6,7]\n",
    "s.reverse()"
   ]
  },
  {
   "cell_type": "code",
   "execution_count": 78,
   "id": "44c3e7b9-8921-4153-bfca-517155760c68",
   "metadata": {},
   "outputs": [
    {
     "data": {
      "text/plain": [
       "[7, 6, 5, 4]"
      ]
     },
     "execution_count": 78,
     "metadata": {},
     "output_type": "execute_result"
    }
   ],
   "source": [
    "s"
   ]
  },
  {
   "cell_type": "code",
   "execution_count": 97,
   "id": "975e299f-4369-432d-b6fb-8bf70d71924e",
   "metadata": {},
   "outputs": [
    {
     "data": {
      "text/plain": [
       "10"
      ]
     },
     "execution_count": 97,
     "metadata": {},
     "output_type": "execute_result"
    }
   ],
   "source": [
    "s = [1,11,2,3,2,4,1,5,8,55]\n",
    "len(s)"
   ]
  },
  {
   "cell_type": "code",
   "execution_count": 99,
   "id": "e2bf68b7-373a-4d14-91cb-e898e45ee70e",
   "metadata": {},
   "outputs": [
    {
     "data": {
      "text/plain": [
       "{1, 2, 3, 4, 5, 8, 11, 55}"
      ]
     },
     "execution_count": 99,
     "metadata": {},
     "output_type": "execute_result"
    }
   ],
   "source": [
    "set(s)"
   ]
  },
  {
   "cell_type": "code",
   "execution_count": null,
   "id": "a65c8529-6629-483c-a509-37677674272b",
   "metadata": {},
   "outputs": [],
   "source": [
    "#48\n"
   ]
  },
  {
   "cell_type": "code",
   "execution_count": 100,
   "id": "65977aab-90e9-4a7d-8eda-bfca3ca78c14",
   "metadata": {},
   "outputs": [
    {
     "name": "stdout",
     "output_type": "stream",
     "text": [
      "[2, 3, 4, 5, 1]\n"
     ]
    }
   ],
   "source": [
    " lst = [1,2,3,4,5]\n",
    "lst = lst[1:] + lst[:1]\n",
    "print(lst)\n"
   ]
  },
  {
   "cell_type": "code",
   "execution_count": null,
   "id": "5dd8b467-1826-4d33-99fc-39546d58b8eb",
   "metadata": {},
   "outputs": [],
   "source": [
    "#50"
   ]
  },
  {
   "cell_type": "markdown",
   "id": "c72d4895-9ec7-4384-9fd0-96f32a571cc6",
   "metadata": {},
   "source": [
    "51.Create a tuple of five numbers and print only the first three.\n",
    "\n",
    "52.Print the last element of a tuple without using negative indexing.\n",
    "\n",
    "53.Convert a tuple (1, 2, 3, 4, 5) into a list and add a new number.\n",
    "\n",
    "54.Try deleting an element from a tuple and observe the error.\n",
    "\n",
    "55.Extract the middle element from a tuple with an odd number of elements."
   ]
  },
  {
   "cell_type": "code",
   "execution_count": 105,
   "id": "9b63e339-f896-4e9d-beb9-2019e935c5ec",
   "metadata": {},
   "outputs": [
    {
     "data": {
      "text/plain": [
       "(10, 20, 30)"
      ]
     },
     "execution_count": 105,
     "metadata": {},
     "output_type": "execute_result"
    }
   ],
   "source": [
    "t = (10, 20, 30, 40, 50)\n",
    "t[:3]\n"
   ]
  },
  {
   "cell_type": "code",
   "execution_count": 107,
   "id": "1c63af6e-b447-458c-8504-d7b8e5a3effa",
   "metadata": {},
   "outputs": [
    {
     "name": "stdout",
     "output_type": "stream",
     "text": [
      "50\n"
     ]
    }
   ],
   "source": [
    "t = (10, 20, 30, 40, 50)\n",
    "print(t[len(t)-1])\n"
   ]
  },
  {
   "cell_type": "code",
   "execution_count": 121,
   "id": "78bfee39-6ee6-4df9-94df-dffde74a1af5",
   "metadata": {},
   "outputs": [],
   "source": [
    "t = (1,2,3,4,5)"
   ]
  },
  {
   "cell_type": "code",
   "execution_count": 122,
   "id": "b3c2f981-9918-4487-bde8-91a8dbb48e27",
   "metadata": {},
   "outputs": [],
   "source": [
    "n=set(t)"
   ]
  },
  {
   "cell_type": "code",
   "execution_count": 123,
   "id": "6ca01188-df98-4f94-85e9-61241e805f20",
   "metadata": {},
   "outputs": [
    {
     "data": {
      "text/plain": [
       "{1, 2, 3, 4, 5}"
      ]
     },
     "execution_count": 123,
     "metadata": {},
     "output_type": "execute_result"
    }
   ],
   "source": [
    "n"
   ]
  },
  {
   "cell_type": "code",
   "execution_count": 125,
   "id": "fbd88149-7172-4f95-a623-0d66d504ca5c",
   "metadata": {},
   "outputs": [],
   "source": [
    "n.add(6)"
   ]
  },
  {
   "cell_type": "code",
   "execution_count": 131,
   "id": "7251a93f-2aa6-40f9-86e4-dad419f595d6",
   "metadata": {},
   "outputs": [
    {
     "ename": "TypeError",
     "evalue": "set.pop() takes no arguments (1 given)",
     "output_type": "error",
     "traceback": [
      "\u001b[31m---------------------------------------------------------------------------\u001b[39m",
      "\u001b[31mTypeError\u001b[39m                                 Traceback (most recent call last)",
      "\u001b[36mCell\u001b[39m\u001b[36m \u001b[39m\u001b[32mIn[131]\u001b[39m\u001b[32m, line 1\u001b[39m\n\u001b[32m----> \u001b[39m\u001b[32m1\u001b[39m \u001b[43mn\u001b[49m\u001b[43m.\u001b[49m\u001b[43mpop\u001b[49m\u001b[43m(\u001b[49m\u001b[32;43m6\u001b[39;49m\u001b[43m)\u001b[49m\n",
      "\u001b[31mTypeError\u001b[39m: set.pop() takes no arguments (1 given)"
     ]
    }
   ],
   "source": [
    "n.pop(6)"
   ]
  },
  {
   "cell_type": "code",
   "execution_count": null,
   "id": "aaffbb54-f59c-48cc-9cae-f287e0f2c4fe",
   "metadata": {},
   "outputs": [],
   "source": [
    "#tupe is immutable"
   ]
  },
  {
   "cell_type": "code",
   "execution_count": 132,
   "id": "8be97201-042b-436a-83dd-6c219d817f34",
   "metadata": {},
   "outputs": [
    {
     "data": {
      "text/plain": [
       "(1, 2, 3, 4, 5)"
      ]
     },
     "execution_count": 132,
     "metadata": {},
     "output_type": "execute_result"
    }
   ],
   "source": [
    "t"
   ]
  },
  {
   "cell_type": "code",
   "execution_count": 136,
   "id": "de4493fa-3ecf-4faf-a0bd-64f4ebea154e",
   "metadata": {},
   "outputs": [
    {
     "data": {
      "text/plain": [
       "3"
      ]
     },
     "execution_count": 136,
     "metadata": {},
     "output_type": "execute_result"
    }
   ],
   "source": [
    "t[2]"
   ]
  },
  {
   "cell_type": "markdown",
   "id": "ab76fcb7-3d1c-475e-887f-dfae1f3aaeaf",
   "metadata": {},
   "source": [
    "56.Check if two tuples (1, 2, 3) and (3, 2, 1) are the same.\n",
    "\n",
    "57.Create a nested tuple and print an inner element.\n",
    "\n",
    "58.Merge three tuples into one.\n",
    "\n",
    "59.Find the index of 5 in the tuple (1, 3, 5, 7, 9).\n",
    "\n",
    "60.Unpack a tuple into separate variables.\n"
   ]
  },
  {
   "cell_type": "code",
   "execution_count": 137,
   "id": "eb66676c-2a98-4bd2-ab37-d3c7a48e17af",
   "metadata": {},
   "outputs": [],
   "source": [
    "t1 = (1,2,3)\n",
    "t2 = (3,2,1)"
   ]
  },
  {
   "cell_type": "code",
   "execution_count": 138,
   "id": "a44fcbec-e36b-4892-af5a-7fdb5a343070",
   "metadata": {},
   "outputs": [
    {
     "data": {
      "text/plain": [
       "False"
      ]
     },
     "execution_count": 138,
     "metadata": {},
     "output_type": "execute_result"
    }
   ],
   "source": [
    "t1 == t2"
   ]
  },
  {
   "cell_type": "code",
   "execution_count": 140,
   "id": "833af898-9f3a-4e7b-b454-64c844505384",
   "metadata": {},
   "outputs": [
    {
     "name": "stdout",
     "output_type": "stream",
     "text": [
      "2\n"
     ]
    }
   ],
   "source": [
    "#57\n",
    "t = (1, (2, 3), 4)\n",
    "print(t[1][0])   \n"
   ]
  },
  {
   "cell_type": "code",
   "execution_count": 141,
   "id": "2c5563ef-ecb1-4e26-9a42-cd264985e842",
   "metadata": {},
   "outputs": [],
   "source": [
    "t3 = (4,5,6)"
   ]
  },
  {
   "cell_type": "code",
   "execution_count": 142,
   "id": "8b5a8862-58a2-4642-aaba-78781f571b8c",
   "metadata": {},
   "outputs": [
    {
     "data": {
      "text/plain": [
       "(1, 2, 3, 3, 2, 1, 4, 5, 6)"
      ]
     },
     "execution_count": 142,
     "metadata": {},
     "output_type": "execute_result"
    }
   ],
   "source": [
    "t1 + t2 + t3"
   ]
  },
  {
   "cell_type": "code",
   "execution_count": 145,
   "id": "125a695c-a780-4c39-8628-01f5c57ac287",
   "metadata": {},
   "outputs": [],
   "source": [
    "t = (1,3,5,7,9)"
   ]
  },
  {
   "cell_type": "code",
   "execution_count": 148,
   "id": "9e379061-b428-4908-88d9-49e1cbd8fd1c",
   "metadata": {},
   "outputs": [
    {
     "data": {
      "text/plain": [
       "(1, 3, 5, 7, 9)"
      ]
     },
     "execution_count": 148,
     "metadata": {},
     "output_type": "execute_result"
    }
   ],
   "source": [
    "t"
   ]
  },
  {
   "cell_type": "code",
   "execution_count": 149,
   "id": "3a950ada-0080-42f6-b797-b230b05fefeb",
   "metadata": {},
   "outputs": [
    {
     "data": {
      "text/plain": [
       "2"
      ]
     },
     "execution_count": 149,
     "metadata": {},
     "output_type": "execute_result"
    }
   ],
   "source": [
    "t.index(5)"
   ]
  },
  {
   "cell_type": "code",
   "execution_count": 150,
   "id": "97037bfc-45cb-465f-b227-4bdbefdd01c5",
   "metadata": {},
   "outputs": [
    {
     "name": "stdout",
     "output_type": "stream",
     "text": [
      "10 20 30\n"
     ]
    }
   ],
   "source": [
    "t = (10, 20, 30)\n",
    "a, b, c = t\n",
    "print(a, b, c)\n"
   ]
  },
  {
   "cell_type": "markdown",
   "id": "e9a3d17b-b790-4f9c-8e06-622db7fb245f",
   "metadata": {},
   "source": [
    "61. Create a dictionary with the following key-value pairs:\n",
    "\tname: \"Alice\", age: 25, city: \"New York\"\n",
    "62: person = {\"name\": \"Alice\", \"age\": 25, \"city\": \"New York\"}\n",
    "\n",
    "\tPrint the value associated with the key \"city\"\n",
    "\n",
    "63: Update the age of Alice to 26 in the dictionary\n",
    "\n",
    "64. Add a new key \"email\" with value \"alice@example.com\" to the dictionary\n",
    "\n",
    "65. Delete the key \"city\" from the dictionary"
   ]
  },
  {
   "cell_type": "code",
   "execution_count": 157,
   "id": "2b236a27-29a6-4a26-967c-438f3469e811",
   "metadata": {},
   "outputs": [
    {
     "name": "stdout",
     "output_type": "stream",
     "text": [
      "{'name': 'Alice', 'age': 25, 'city': 'New York'}\n"
     ]
    }
   ],
   "source": [
    "s = {\"name\" : \"Alice\", \"age\" : 25 , \"city\" : \"New York\"}\n",
    "print(s)"
   ]
  },
  {
   "cell_type": "code",
   "execution_count": 161,
   "id": "42a24dd6-ef8e-4e97-9051-ba34a11de1aa",
   "metadata": {},
   "outputs": [
    {
     "data": {
      "text/plain": [
       "'New York'"
      ]
     },
     "execution_count": 161,
     "metadata": {},
     "output_type": "execute_result"
    }
   ],
   "source": [
    "s[\"city\"]"
   ]
  },
  {
   "cell_type": "code",
   "execution_count": 162,
   "id": "586d44a5-13fa-41fa-bf84-480abbc079e6",
   "metadata": {},
   "outputs": [],
   "source": [
    "s[\"age\"] = 26"
   ]
  },
  {
   "cell_type": "code",
   "execution_count": 163,
   "id": "b7f17437-dc5b-4dbf-919d-28983191380e",
   "metadata": {},
   "outputs": [
    {
     "data": {
      "text/plain": [
       "{'name': 'Alice', 'age': 26, 'city': 'New York'}"
      ]
     },
     "execution_count": 163,
     "metadata": {},
     "output_type": "execute_result"
    }
   ],
   "source": [
    "s"
   ]
  },
  {
   "cell_type": "code",
   "execution_count": 166,
   "id": "38830535-ee53-4c85-bdfb-fb58cbd69764",
   "metadata": {},
   "outputs": [],
   "source": [
    "s[\"email\"] = \"sofi@gamil.com\""
   ]
  },
  {
   "cell_type": "code",
   "execution_count": 168,
   "id": "5505b724-17c8-473d-8247-42a8df421e25",
   "metadata": {},
   "outputs": [
    {
     "data": {
      "text/plain": [
       "{'name': 'Alice', 'age': 26, 'city': 'New York', 'email': 'sofi@gamil.com'}"
      ]
     },
     "execution_count": 168,
     "metadata": {},
     "output_type": "execute_result"
    }
   ],
   "source": [
    "s"
   ]
  },
  {
   "cell_type": "code",
   "execution_count": 169,
   "id": "7447a955-f775-4fa7-99f3-4a530ce6331d",
   "metadata": {},
   "outputs": [],
   "source": [
    "del s[\"city\"]"
   ]
  },
  {
   "cell_type": "code",
   "execution_count": 170,
   "id": "64facbc7-69ac-4183-9633-89db920ee6a3",
   "metadata": {},
   "outputs": [
    {
     "data": {
      "text/plain": [
       "{'name': 'Alice', 'age': 26, 'email': 'sofi@gamil.com'}"
      ]
     },
     "execution_count": 170,
     "metadata": {},
     "output_type": "execute_result"
    }
   ],
   "source": [
    "s"
   ]
  },
  {
   "cell_type": "markdown",
   "id": "0f8e531c-fc11-4d9d-bf63-cbc729fcd721",
   "metadata": {},
   "source": [
    "66. Check if the key \"email\" exists in the dictionary\n",
    "\n",
    "67: Create a dictionary of students:\n",
    "\n",
    " {\n",
    "    \"Alice\": {\"math\": 90, \"science\": 85},     \n",
    "    \"Bob\": {\"math\": 75, \"science\": 95}\n",
    " }\n",
    "\n",
    "Print Bob's science score.\n",
    "\n"
   ]
  },
  {
   "cell_type": "code",
   "execution_count": 171,
   "id": "e669da83-1187-495f-98ad-3af6aa001146",
   "metadata": {},
   "outputs": [
    {
     "data": {
      "text/plain": [
       "{'name': 'Alice', 'age': 26, 'email': 'sofi@gamil.com'}"
      ]
     },
     "execution_count": 171,
     "metadata": {},
     "output_type": "execute_result"
    }
   ],
   "source": [
    "s"
   ]
  },
  {
   "cell_type": "code",
   "execution_count": 172,
   "id": "b8eab198-3ae6-410c-8679-5b2b29d8e70f",
   "metadata": {},
   "outputs": [
    {
     "data": {
      "text/plain": [
       "True"
      ]
     },
     "execution_count": 172,
     "metadata": {},
     "output_type": "execute_result"
    }
   ],
   "source": [
    "\"email\" in s"
   ]
  },
  {
   "cell_type": "code",
   "execution_count": 173,
   "id": "39afebcf-6c6c-4d0b-8f1d-77e4f152457c",
   "metadata": {},
   "outputs": [],
   "source": [
    "p = { \"Alice\": {\"math\": 90, \"science\": 85}, \"Bob\": {\"math\": 75, \"science\": 95} }"
   ]
  },
  {
   "cell_type": "code",
   "execution_count": 178,
   "id": "d44d0279-ac04-4f40-8177-b633f27b2c45",
   "metadata": {},
   "outputs": [
    {
     "data": {
      "text/plain": [
       "95"
      ]
     },
     "execution_count": 178,
     "metadata": {},
     "output_type": "execute_result"
    }
   ],
   "source": [
    "(p[\"Bob\"][\"science\"])"
   ]
  },
  {
   "cell_type": "markdown",
   "id": "82558e37-1582-48e1-8974-4a329618508e",
   "metadata": {},
   "source": [
    "68. Create a set named `fruits` with the items: \"apple\", \"banana\", \"cherry\"\n",
    "\n",
    "69. Add \"orange\" to the set `fruits`\n",
    "\n",
    "70. Remove \"banana\" from the set `fruits`\n",
    "    What happens if you try to remove an item that doesn’t exist?\n",
    "\n",
    "71. Check if \"apple\" is in the set `fruits`\n",
    "\n",
    "72. Given a list: [1, 2, 2, 3, 4, 4, 5]\n",
    "    Use a set to remove duplicates\n",
    "\n",
    "73. Given a sentence: \"hello world and hello python\"\n",
    "    Find all unique words\n"
   ]
  },
  {
   "cell_type": "code",
   "execution_count": 16,
   "id": "8c9dbd4b-29cc-4980-a4fa-8482ec736a00",
   "metadata": {},
   "outputs": [
    {
     "name": "stdout",
     "output_type": "stream",
     "text": [
      "{'cherry', 'apple', 'banana'}\n"
     ]
    }
   ],
   "source": [
    "fruits = { \"apple\", \"banana\", \"cherry\"}\n",
    "print(fruits)"
   ]
  },
  {
   "cell_type": "code",
   "execution_count": 19,
   "id": "4a64f347-4d64-4708-a51c-e6b1f7c41794",
   "metadata": {},
   "outputs": [],
   "source": [
    "fruits.add(\"orange\")"
   ]
  },
  {
   "cell_type": "code",
   "execution_count": 20,
   "id": "080e27a3-ec94-42a4-9f59-84b05d72ba65",
   "metadata": {},
   "outputs": [
    {
     "data": {
      "text/plain": [
       "{'apple', 'banana', 'cherry', 'orange'}"
      ]
     },
     "execution_count": 20,
     "metadata": {},
     "output_type": "execute_result"
    }
   ],
   "source": [
    "fruits"
   ]
  },
  {
   "cell_type": "code",
   "execution_count": 21,
   "id": "c8e9adce-e928-469c-a6b7-e8ba37be9e32",
   "metadata": {},
   "outputs": [],
   "source": [
    "fruits.discard(\"banana\")"
   ]
  },
  {
   "cell_type": "code",
   "execution_count": 24,
   "id": "167a64d6-e44d-4b5e-8d17-c11eb3e1405f",
   "metadata": {},
   "outputs": [
    {
     "data": {
      "text/plain": [
       "{'apple', 'cherry', 'orange'}"
      ]
     },
     "execution_count": 24,
     "metadata": {},
     "output_type": "execute_result"
    }
   ],
   "source": [
    "fruits"
   ]
  },
  {
   "cell_type": "code",
   "execution_count": 25,
   "id": "00a0f512-b7f3-4729-a979-1b93c300f722",
   "metadata": {},
   "outputs": [
    {
     "data": {
      "text/plain": [
       "True"
      ]
     },
     "execution_count": 25,
     "metadata": {},
     "output_type": "execute_result"
    }
   ],
   "source": [
    "\"apple\" in fruits"
   ]
  },
  {
   "cell_type": "code",
   "execution_count": 7,
   "id": "9bf998b6-a53b-4721-a988-220657162f30",
   "metadata": {},
   "outputs": [
    {
     "name": "stdout",
     "output_type": "stream",
     "text": [
      "[1, 2, 3, 4, 5]\n"
     ]
    }
   ],
   "source": [
    "#72 and 73\n",
    "nums = [1, 2, 2, 3, 4, 4, 5]\n",
    "unique = list(set(nums))\n",
    "print(unique)\n"
   ]
  },
  {
   "cell_type": "code",
   "execution_count": 8,
   "id": "a44bad8b-f918-4853-ac17-31c1d49d5a14",
   "metadata": {},
   "outputs": [
    {
     "name": "stdout",
     "output_type": "stream",
     "text": [
      "{'world', 'python', 'and', 'hello'}\n"
     ]
    }
   ],
   "source": [
    "text = \"hello world and hello python\"\n",
    "unique_words = set(text.split())\n",
    "print(unique_words)\n"
   ]
  },
  {
   "cell_type": "code",
   "execution_count": 9,
   "id": "122bd5b5-1279-4aee-b7e6-e30168d138ab",
   "metadata": {},
   "outputs": [],
   "source": [
    "list =  [1, 2, 2, 3, 4, 4, 5]"
   ]
  },
  {
   "cell_type": "code",
   "execution_count": 10,
   "id": "63671dba-e76d-4467-b59c-ca6baa131cf9",
   "metadata": {},
   "outputs": [
    {
     "data": {
      "text/plain": [
       "{1, 2, 3, 4, 5}"
      ]
     },
     "execution_count": 10,
     "metadata": {},
     "output_type": "execute_result"
    }
   ],
   "source": [
    "set(list)"
   ]
  },
  {
   "cell_type": "code",
   "execution_count": 11,
   "id": "30cc5ff0-c029-4f55-9965-cae8c4859899",
   "metadata": {},
   "outputs": [
    {
     "name": "stdout",
     "output_type": "stream",
     "text": [
      "{'world', 'python', 'and', 'hello'}\n"
     ]
    }
   ],
   "source": [
    "sentence = \"hello world and hello python\"\n",
    "unique_words = set(sentence.split())\n",
    "print(unique_words)\n"
   ]
  },
  {
   "cell_type": "code",
   "execution_count": null,
   "id": "bea0c7db-34b8-47c9-ab29-8ae7dce5ccc9",
   "metadata": {},
   "outputs": [],
   "source": []
  },
  {
   "cell_type": "code",
   "execution_count": null,
   "id": "33934883-bc23-4f3a-89c9-2d380ae71246",
   "metadata": {},
   "outputs": [],
   "source": []
  }
 ],
 "metadata": {
  "kernelspec": {
   "display_name": "Python 3 (ipykernel)",
   "language": "python",
   "name": "python3"
  },
  "language_info": {
   "codemirror_mode": {
    "name": "ipython",
    "version": 3
   },
   "file_extension": ".py",
   "mimetype": "text/x-python",
   "name": "python",
   "nbconvert_exporter": "python",
   "pygments_lexer": "ipython3",
   "version": "3.12.1"
  }
 },
 "nbformat": 4,
 "nbformat_minor": 5
}
