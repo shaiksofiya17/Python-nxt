{
 "cells": [
  {
   "cell_type": "markdown",
   "id": "171ef7c2",
   "metadata": {},
   "source": [
    "1. Write a function that accepts any number of numerical arguments and returns their sum.\n",
    "Example:\n",
    "sum_numbers(1, 2, 3, 4)  \n"
   ]
  },
  {
   "cell_type": "code",
   "execution_count": 61,
   "id": "6876fe20",
   "metadata": {},
   "outputs": [],
   "source": [
    "def sum(*a):\n",
    "    l=[]\n",
    "    for i in a:\n",
    "        l=l+i\n",
    "    print(l)\n"
   ]
  },
  {
   "cell_type": "code",
   "execution_count": 62,
   "id": "3ca9ed92",
   "metadata": {},
   "outputs": [
    {
     "name": "stdout",
     "output_type": "stream",
     "text": [
      "10\n"
     ]
    }
   ],
   "source": [
    "sum_numbers(1,2,3,4)"
   ]
  },
  {
   "cell_type": "markdown",
   "id": "f1c23e35",
   "metadata": {},
   "source": [
    "2. Create a function that takes multiple names as arguments and prints them one by one.\n",
    "Example:print_names(\"Alice\", \"Bob\", \"Charlie\")  \n"
   ]
  },
  {
   "cell_type": "code",
   "execution_count": 63,
   "id": "595015e6",
   "metadata": {},
   "outputs": [],
   "source": [
    "def name(*a):\n",
    "    for i in a:\n",
    "        print(i)"
   ]
  },
  {
   "cell_type": "code",
   "execution_count": 64,
   "id": "eef8fb35",
   "metadata": {},
   "outputs": [
    {
     "name": "stdout",
     "output_type": "stream",
     "text": [
      "alice\n",
      "bob\n",
      "charlie\n"
     ]
    }
   ],
   "source": [
    "name(\"alice\",\"bob\",\"charlie\")"
   ]
  },
  {
   "cell_type": "markdown",
   "id": "3c0ef8d1",
   "metadata": {},
   "source": [
    "3. Write a function that finds the maximum number among any number of arguments using *args.\n"
   ]
  },
  {
   "cell_type": "code",
   "execution_count": 65,
   "id": "03d41048",
   "metadata": {},
   "outputs": [],
   "source": [
    "def max_number(*a):\n",
    "  max=a[0]\n",
    "  for i in a:\n",
    "    if i>max:\n",
    "      max=i\n",
    "  return max"
   ]
  },
  {
   "cell_type": "code",
   "execution_count": 66,
   "id": "184df069",
   "metadata": {},
   "outputs": [
    {
     "data": {
      "text/plain": [
       "40"
      ]
     },
     "execution_count": 66,
     "metadata": {},
     "output_type": "execute_result"
    }
   ],
   "source": [
    "max_number(10,15,25,40)"
   ]
  },
  {
   "cell_type": "code",
   "execution_count": 67,
   "id": "dc123398",
   "metadata": {},
   "outputs": [],
   "source": [
    "def even(*a):\n",
    "  l=[]\n",
    "  for i in a:\n",
    "     if i%2==0:\n",
    "        l.append(i)\n",
    "  print(l)"
   ]
  },
  {
   "cell_type": "code",
   "execution_count": 68,
   "id": "d0640e62",
   "metadata": {},
   "outputs": [
    {
     "name": "stdout",
     "output_type": "stream",
     "text": [
      "[2, 4, 6, 8, 10, 12]\n"
     ]
    }
   ],
   "source": [
    "even(1,2,3,4,5,6,7,8,9,10,12,15)"
   ]
  },
  {
   "cell_type": "markdown",
   "id": "3399ef40",
   "metadata": {},
   "source": [
    "4. Create a function that accepts a mix of numbers and strings but stores only numbers in a separate list.\n",
    "Example:filter_numbers(10, \"apple\", 25, \"banana\", 30)  \n",
    "  Output: [10, 25, 30]"
   ]
  },
  {
   "cell_type": "code",
   "execution_count": 69,
   "id": "04e55ca7",
   "metadata": {},
   "outputs": [],
   "source": [
    "def num(*a):\n",
    "    numbers=[]\n",
    "    for i in a:\n",
    "        if type(i) == int:\n",
    "            numbers.append(i)\n",
    "    print(numbers)\n",
    "\n"
   ]
  },
  {
   "cell_type": "code",
   "execution_count": 70,
   "id": "2a8142cf",
   "metadata": {},
   "outputs": [
    {
     "name": "stdout",
     "output_type": "stream",
     "text": [
      "[10, 25, 30]\n"
     ]
    }
   ],
   "source": [
    "num(10, \"apple\", 25, \"banana\", 30)"
   ]
  },
  {
   "cell_type": "markdown",
   "id": "0c8f67c2",
   "metadata": {},
   "source": [
    "5. Write a function that accepts any number of arguments and returns the product of all numbers.\n",
    "Example:multiply(2, 3, 4)  \n",
    "Output: 24\n"
   ]
  },
  {
   "cell_type": "code",
   "execution_count": 71,
   "id": "320c5991",
   "metadata": {},
   "outputs": [],
   "source": [
    "def mul(*a):\n",
    "    pro=1\n",
    "    for i in a:\n",
    "        pro*=i\n",
    "    print(pro)\n"
   ]
  },
  {
   "cell_type": "code",
   "execution_count": 72,
   "id": "d5188591",
   "metadata": {},
   "outputs": [
    {
     "name": "stdout",
     "output_type": "stream",
     "text": [
      "120\n"
     ]
    }
   ],
   "source": [
    "mul(1,2,3,4,5)"
   ]
  },
  {
   "cell_type": "markdown",
   "id": "e7034771",
   "metadata": {},
   "source": []
  },
  {
   "cell_type": "markdown",
   "id": "03e2b646",
   "metadata": {},
   "source": [
    "6. Create a function that takes multiple words as arguments and returns a list of words that have more than 5 characters."
   ]
  },
  {
   "cell_type": "code",
   "execution_count": 73,
   "id": "d3cc22c7",
   "metadata": {},
   "outputs": [],
   "source": [
    "def words(*a):\n",
    "    for i in a:\n",
    "        if len(i)>5:\n",
    "            print(i)"
   ]
  },
  {
   "cell_type": "code",
   "execution_count": 74,
   "id": "76d60e8e",
   "metadata": {},
   "outputs": [
    {
     "name": "stdout",
     "output_type": "stream",
     "text": [
      "aimnxt\n",
      "sofiya\n"
     ]
    }
   ],
   "source": [
    "words(\"aim\",\"aimnxt\",\"cat\",\"sofiya\")"
   ]
  },
  {
   "cell_type": "markdown",
   "id": "9f11140f",
   "metadata": {},
   "source": []
  },
  {
   "cell_type": "markdown",
   "id": "6bfc0dee",
   "metadata": {},
   "source": [
    "\n",
    "7. Write a function that takes any number of arguments and separates integers and non-integers into two different lists.\n"
   ]
  },
  {
   "cell_type": "code",
   "execution_count": 75,
   "id": "c3215623",
   "metadata": {},
   "outputs": [],
   "source": [
    "def uni(*a):\n",
    "    num=[]\n",
    "    alpha=[]\n",
    "    for i in a:\n",
    "        if type(i)==int:\n",
    "            num.append(i)\n",
    "        if type(i)==str:\n",
    "            alpha.append(i)\n",
    "    print(\"intergers:\",num)\n",
    "    print(\"non intergers:\",alpha)"
   ]
  },
  {
   "cell_type": "code",
   "execution_count": 76,
   "id": "cc688b8f",
   "metadata": {},
   "outputs": [
    {
     "name": "stdout",
     "output_type": "stream",
     "text": [
      "intergers: [45, 34, 5, 8]\n",
      "non intergers: ['sofiya', 'stars', 'moon', 'system']\n"
     ]
    }
   ],
   "source": [
    "uni(\"sofiya\",45,34,\"stars\",\"moon\",\"system\",5,8)"
   ]
  },
  {
   "cell_type": "markdown",
   "id": "a5f70b92",
   "metadata": {},
   "source": [
    "8. Create a function that takes multiple numbers as input and returns the largest and smallest numbers from the arguments.\n"
   ]
  },
  {
   "cell_type": "code",
   "execution_count": 77,
   "id": "d61c4df2",
   "metadata": {},
   "outputs": [],
   "source": [
    "def max_min(*a):\n",
    "  smallest = a[0]\n",
    "  largest = a[0]\n",
    "  for i in a:\n",
    "    if i<smallest:\n",
    "      smallest = i\n",
    "    if i>largest:\n",
    "      largest = i\n",
    "  print(\"Smallest number among all the numbers: \",smallest)\n",
    "  print(\"Largest number among all the numbers: \",largest)"
   ]
  },
  {
   "cell_type": "code",
   "execution_count": 78,
   "id": "88766b73",
   "metadata": {},
   "outputs": [
    {
     "name": "stdout",
     "output_type": "stream",
     "text": [
      "Smallest number among all the numbers:  1\n",
      "Largest number among all the numbers:  536\n"
     ]
    }
   ],
   "source": [
    "max_min(15,1,2,8,189,8,69,536,7)"
   ]
  },
  {
   "cell_type": "markdown",
   "id": "dfb6b311",
   "metadata": {},
   "source": []
  },
  {
   "cell_type": "markdown",
   "id": "f6dd52cf",
   "metadata": {},
   "source": [
    "9. Write a function that accepts multiple elements and prints only the elements at even index positions."
   ]
  },
  {
   "cell_type": "code",
   "execution_count": 79,
   "id": "014299dc",
   "metadata": {},
   "outputs": [],
   "source": [
    "def ext(*a):\n",
    "  for i in range(len(a)):\n",
    "    if i%2==0:\n",
    "      print(a[i])"
   ]
  },
  {
   "cell_type": "code",
   "execution_count": 80,
   "id": "5c25f316",
   "metadata": {},
   "outputs": [
    {
     "name": "stdout",
     "output_type": "stream",
     "text": [
      "2\n",
      "6\n",
      "7\n",
      "9\n"
     ]
    }
   ],
   "source": [
    "ext(2,4,6,3,7,8,9)"
   ]
  },
  {
   "cell_type": "markdown",
   "id": "3d7c1b46",
   "metadata": {},
   "source": []
  },
  {
   "cell_type": "markdown",
   "id": "a648ac7a",
   "metadata": {},
   "source": [
    "***Questions on **kwargs (Keyword Arguments)***"
   ]
  },
  {
   "cell_type": "markdown",
   "id": "9433bcad",
   "metadata": {},
   "source": []
  },
  {
   "cell_type": "markdown",
   "id": "738edf18",
   "metadata": {},
   "source": [
    "1. Write a function that takes any number of keyword arguments and prints them in key-value pairs.\n",
    "Example:\n",
    "show_info(name=\"Alice\", age=25, city=\"New York\")  \n",
    "Output:\n",
    "name: Alice\n",
    "age: 25\n",
    "city: New York\n"
   ]
  },
  {
   "cell_type": "code",
   "execution_count": 81,
   "id": "15f7fc9f",
   "metadata": {},
   "outputs": [],
   "source": [
    "def show_info(**a):\n",
    "  for k,v in a.items():\n",
    "       print(k,\":\",v)"
   ]
  },
  {
   "cell_type": "code",
   "execution_count": 82,
   "id": "167c3f43",
   "metadata": {},
   "outputs": [
    {
     "name": "stdout",
     "output_type": "stream",
     "text": [
      "name : Alice\n",
      "age : 25\n",
      "city : New York\n"
     ]
    }
   ],
   "source": [
    "show_info(name=\"Alice\",age=25,city=\"New York\")"
   ]
  },
  {
   "cell_type": "markdown",
   "id": "e6f02227",
   "metadata": {},
   "source": []
  },
  {
   "cell_type": "markdown",
   "id": "9d8ab06b",
   "metadata": {},
   "source": [
    "\n",
    "2. Create a function that takes student details (name, age, grade) using **kwargs and prints them in a formatted way.\n",
    "\n"
   ]
  },
  {
   "cell_type": "markdown",
   "id": "d3d15b9d",
   "metadata": {},
   "source": []
  },
  {
   "cell_type": "code",
   "execution_count": 83,
   "id": "5ab3079f",
   "metadata": {},
   "outputs": [],
   "source": [
    "def student_details(**a):\n",
    "   for k,v in a.items():\n",
    "      print(k,\":\",v)"
   ]
  },
  {
   "cell_type": "code",
   "execution_count": 84,
   "id": "e1650fc2",
   "metadata": {},
   "outputs": [
    {
     "name": "stdout",
     "output_type": "stream",
     "text": [
      "name : hema\n",
      "age : 24\n",
      "grade : B\n"
     ]
    }
   ],
   "source": [
    "student_details(name=\"hema\",age=24,grade=\"B\")"
   ]
  },
  {
   "cell_type": "markdown",
   "id": "3f4897fe",
   "metadata": {},
   "source": [
    "3. Write a function that accepts both *args and **kwargs and prints their values separately.\n"
   ]
  },
  {
   "cell_type": "code",
   "execution_count": 85,
   "id": "87ce1010",
   "metadata": {},
   "outputs": [],
   "source": [
    "def ext(**a):\n",
    "   for k,v in a.items():\n",
    "       print(v)"
   ]
  },
  {
   "cell_type": "code",
   "execution_count": 86,
   "id": "deb5acd5",
   "metadata": {},
   "outputs": [
    {
     "name": "stdout",
     "output_type": "stream",
     "text": [
      "caroline\n",
      "14\n",
      "Hyderabad\n"
     ]
    }
   ],
   "source": [
    "ext(name=\"caroline\",age=\"14\",city=\"Hyderabad\")"
   ]
  },
  {
   "cell_type": "markdown",
   "id": "e57f3a64",
   "metadata": {},
   "source": [
    "\n",
    "4. Create a function that accepts a dictionary using **kwargs and store all the values in a seperate list.\n",
    "\n",
    "\n"
   ]
  },
  {
   "cell_type": "code",
   "execution_count": 87,
   "id": "f9696cf6",
   "metadata": {},
   "outputs": [],
   "source": [
    "def ext(**a):\n",
    "  l=[]\n",
    "  for k,v in a.items():\n",
    "    l.append(v)\n",
    "  print(l)"
   ]
  },
  {
   "cell_type": "code",
   "execution_count": 88,
   "id": "adac4b5f",
   "metadata": {},
   "outputs": [
    {
     "name": "stdout",
     "output_type": "stream",
     "text": [
      "['Ram', 24, 'Hyderabad']\n"
     ]
    }
   ],
   "source": [
    "ext(name=\"Ram\",age=24,city=\"Hyderabad\")"
   ]
  },
  {
   "cell_type": "markdown",
   "id": "0daa6a0a",
   "metadata": {},
   "source": [
    "5. Write a function that takes a product name and an unknown number of attributes using **kwargs and prints the product details.\n",
    "Example:\n",
    "product_details(\"Laptop\", brand=\"Dell\", price=70000, color=\"Black\")  \n",
    "Output:\n",
    "Product: Laptop\n",
    "brand: Dell\n",
    "price: 70000\n",
    "color: Black"
   ]
  },
  {
   "cell_type": "code",
   "execution_count": 89,
   "id": "041da247",
   "metadata": {},
   "outputs": [],
   "source": [
    "def product_details(**a):\n",
    "  for k,v in a.items():\n",
    "     print(k,\":\",v)"
   ]
  },
  {
   "cell_type": "markdown",
   "id": "33c93dc4",
   "metadata": {},
   "source": []
  },
  {
   "cell_type": "code",
   "execution_count": 90,
   "id": "ed09c2e0",
   "metadata": {},
   "outputs": [
    {
     "name": "stdout",
     "output_type": "stream",
     "text": [
      "product : Laptop\n",
      "brand : Dell\n",
      "price : 70000\n",
      "color : Black\n"
     ]
    }
   ],
   "source": [
    "product_details(product=\"Laptop\",brand=\"Dell\",price=70000,color=\"Black\")"
   ]
  },
  {
   "cell_type": "markdown",
   "id": "34362449",
   "metadata": {},
   "source": [
    "6. Write a function that takes multiple keyword arguments and prints only those where the value is a string."
   ]
  },
  {
   "cell_type": "code",
   "execution_count": 91,
   "id": "a744f86b",
   "metadata": {},
   "outputs": [],
   "source": [
    "def ext(**a):\n",
    "  for k,v in a.items():\n",
    "    if type(v)==str:\n",
    "      print(k,\":\",v)"
   ]
  },
  {
   "cell_type": "markdown",
   "id": "db303bf1",
   "metadata": {},
   "source": []
  },
  {
   "cell_type": "code",
   "execution_count": 92,
   "id": "4ab665da",
   "metadata": {},
   "outputs": [
    {
     "name": "stdout",
     "output_type": "stream",
     "text": [
      "name : Amrutha\n",
      "city : Hyderabad\n",
      "grade : A\n"
     ]
    }
   ],
   "source": [
    "ext(name=\"Amrutha\",age=20,city=\"Hyderabad\",grade=\"A\",marks=95)"
   ]
  },
  {
   "cell_type": "markdown",
   "id": "f7f5b233",
   "metadata": {},
   "source": [
    "7. Write a function that accepts a dictionary of student details (name, age, grade) and prints only the details where the value is an integer."
   ]
  },
  {
   "cell_type": "code",
   "execution_count": 93,
   "id": "d3034de5",
   "metadata": {},
   "outputs": [],
   "source": [
    "def ext(**a):\n",
    "  for k,v in a.items():\n",
    "    if type(v)==int:\n",
    "      print(k,\":\",v)"
   ]
  },
  {
   "cell_type": "code",
   "execution_count": 94,
   "id": "e71bebba",
   "metadata": {},
   "outputs": [
    {
     "name": "stdout",
     "output_type": "stream",
     "text": [
      "age : 21\n"
     ]
    }
   ],
   "source": [
    "ext(name=\"sofiya\",age=21,grade=\"A\")"
   ]
  },
  {
   "cell_type": "markdown",
   "id": "e89dae8c",
   "metadata": {},
   "source": []
  },
  {
   "cell_type": "markdown",
   "id": "6b4be16c",
   "metadata": {},
   "source": [
    "8. Create a function that takes any number of keyword arguments and returns a dictionary containing only the key-value pairs where the values are strings."
   ]
  },
  {
   "cell_type": "code",
   "execution_count": 95,
   "id": "58dd6d06",
   "metadata": {},
   "outputs": [],
   "source": [
    "def dictionary(**a):\n",
    "  for k,v in a.items():\n",
    "    if type(v)==str:\n",
    "       print(k,\":\",v)"
   ]
  },
  {
   "cell_type": "code",
   "execution_count": 96,
   "id": "adcaacc6",
   "metadata": {},
   "outputs": [
    {
     "name": "stdout",
     "output_type": "stream",
     "text": [
      "name : Amrutha\n",
      "city : Hyderabad\n",
      "role : Data Scientist\n"
     ]
    }
   ],
   "source": [
    "dictionary(name=\"Amrutha\", age=25, city=\"Hyderabad\", experience=3, role=\"Data Scientist\")"
   ]
  },
  {
   "cell_type": "markdown",
   "id": "396e8e1b",
   "metadata": {},
   "source": [
    "9. Write a function that takes keyword arguments representing product details and prints the product name only if a \"price\" key exists."
   ]
  },
  {
   "cell_type": "code",
   "execution_count": 97,
   "id": "3e484b57",
   "metadata": {},
   "outputs": [],
   "source": [
    "def product_details(**a):\n",
    "  for k,v in a.items():\n",
    "    if k==\"price\":\n",
    "      print(a[\"name\"])"
   ]
  },
  {
   "cell_type": "code",
   "execution_count": 98,
   "id": "b4e424e6",
   "metadata": {},
   "outputs": [
    {
     "name": "stdout",
     "output_type": "stream",
     "text": [
      "Laptop\n"
     ]
    }
   ],
   "source": [
    "product_details(name=\"Laptop\", price=55000, warranty=24, stock=120, discount=15)"
   ]
  },
  {
   "cell_type": "markdown",
   "id": "b6168bff",
   "metadata": {},
   "source": [
    "10. Create a function that takes keyword arguments representing an employee's details and returns only those whose values are greater than 30 (for numerical values)."
   ]
  },
  {
   "cell_type": "code",
   "execution_count": 99,
   "id": "4238ad58",
   "metadata": {},
   "outputs": [],
   "source": [
    "def employee_details(**a):\n",
    "  for k,v in a.items():\n",
    "       if type(v)==int and v>30:\n",
    "         print(k,\":\",v)"
   ]
  },
  {
   "cell_type": "code",
   "execution_count": 100,
   "id": "d23b89ad",
   "metadata": {},
   "outputs": [
    {
     "name": "stdout",
     "output_type": "stream",
     "text": [
      "experience : 35\n",
      "salary : 45000\n"
     ]
    }
   ],
   "source": [
    "employee_details(name=\"Amrutha\", age=28, experience=35, salary=45000)"
   ]
  },
  {
   "cell_type": "markdown",
   "id": "62a84525",
   "metadata": {},
   "source": [
    "11. Write a function that accepts a dictionary of country populations and prints only those countries where the population is greater than 50 million."
   ]
  },
  {
   "cell_type": "code",
   "execution_count": 101,
   "id": "10ba30ef",
   "metadata": {},
   "outputs": [],
   "source": [
    "def population(**a):\n",
    "  for k,v in a.items():\n",
    "    if v>50000000:\n",
    "      print(k)"
   ]
  },
  {
   "cell_type": "code",
   "execution_count": 102,
   "id": "4831d546",
   "metadata": {},
   "outputs": [
    {
     "name": "stdout",
     "output_type": "stream",
     "text": [
      "India\n",
      "China\n"
     ]
    }
   ],
   "source": [
    "population(India=98000000,Australia=48000000,China=54000000,Germany=40000000)"
   ]
  },
  {
   "cell_type": "markdown",
   "id": "f67deec6",
   "metadata": {},
   "source": []
  }
 ],
 "metadata": {
  "kernelspec": {
   "display_name": "Python 3",
   "language": "python",
   "name": "python3"
  },
  "language_info": {
   "codemirror_mode": {
    "name": "ipython",
    "version": 3
   },
   "file_extension": ".py",
   "mimetype": "text/x-python",
   "name": "python",
   "nbconvert_exporter": "python",
   "pygments_lexer": "ipython3",
   "version": "3.12.1"
  }
 },
 "nbformat": 4,
 "nbformat_minor": 5
}
