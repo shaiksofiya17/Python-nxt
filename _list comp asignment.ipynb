{
 "cells": [
  {
   "cell_type": "markdown",
   "id": "f2776bb0-7cc3-4f57-b60b-dc2956f32386",
   "metadata": {},
   "source": [
    "Create a list of squares of numbers from 1 to 10 using list comprehension."
   ]
  },
  {
   "cell_type": "code",
   "execution_count": 6,
   "id": "3e924b1e-4517-4e6f-8c04-eed6b07507d4",
   "metadata": {},
   "outputs": [
    {
     "data": {
      "text/plain": [
       "[1, 4, 9, 16, 25, 36, 49, 64, 81]"
      ]
     },
     "execution_count": 6,
     "metadata": {},
     "output_type": "execute_result"
    }
   ],
   "source": [
    "[i**2 for i in range(1,10)]"
   ]
  },
  {
   "cell_type": "markdown",
   "id": "ceb4439b-ede3-4df3-a60c-bfe84c9c937d",
   "metadata": {},
   "source": [
    "Generate a list of even numbers from 1 to 20 using list comprehension."
   ]
  },
  {
   "cell_type": "code",
   "execution_count": 9,
   "id": "413628cf-b00a-4802-8eff-a974c9525049",
   "metadata": {},
   "outputs": [
    {
     "data": {
      "text/plain": [
       "[2, 4, 6, 8, 10, 12, 14, 16, 18]"
      ]
     },
     "execution_count": 9,
     "metadata": {},
     "output_type": "execute_result"
    }
   ],
   "source": [
    "[i for i in range(1,20) if i%2==0]"
   ]
  },
  {
   "cell_type": "markdown",
   "id": "8a311a5b-ffd6-48a0-b6bf-f3eae606c4fd",
   "metadata": {},
   "source": [
    "Create a list of the first letters of each word in the list: [\"apple\", \"banana\", \"cherry\", \"date\"]."
   ]
  },
  {
   "cell_type": "code",
   "execution_count": 10,
   "id": "bafdb87f-e928-43f0-ba58-3c18d0ac9856",
   "metadata": {},
   "outputs": [],
   "source": [
    "words = [\"apple\", \"banana\", \"cherry\", \"date\"]"
   ]
  },
  {
   "cell_type": "code",
   "execution_count": 11,
   "id": "b4dd6e5d-014c-43a7-84fb-45f063610cbd",
   "metadata": {},
   "outputs": [
    {
     "name": "stdout",
     "output_type": "stream",
     "text": [
      "['a', 'b', 'c', 'd']\n"
     ]
    }
   ],
   "source": [
    "first_letters = [w[0] for w in words]\n",
    "print(first_letters)"
   ]
  },
  {
   "cell_type": "markdown",
   "id": "554de56d-1081-43bd-bca8-aef41f2f8b38",
   "metadata": {},
   "source": [
    "Convert a list of temperatures in Celsius [0, 10, 20, 30, 40] to Fahrenheit using list comprehension. (Formula: F = (C * 9/5) + 32)"
   ]
  },
  {
   "cell_type": "code",
   "execution_count": 13,
   "id": "79d717dd-58be-45aa-8245-e00198105a49",
   "metadata": {},
   "outputs": [],
   "source": [
    "celsius = [0, 10, 20, 30, 40]"
   ]
  },
  {
   "cell_type": "code",
   "execution_count": 14,
   "id": "11b810b4-f4c8-48b0-831f-da499b0529b3",
   "metadata": {},
   "outputs": [
    {
     "name": "stdout",
     "output_type": "stream",
     "text": [
      "[32.0, 50.0, 68.0, 86.0, 104.0]\n"
     ]
    }
   ],
   "source": [
    "fahrenheit = [(c * 9/5) + 32 for c in celsius]\n",
    "print(fahrenheit)"
   ]
  },
  {
   "cell_type": "markdown",
   "id": "d7f6d648-2bba-4d3b-99f0-2740e856325e",
   "metadata": {},
   "source": [
    "Create a list of the first 10 natural numbers using list comprehension."
   ]
  },
  {
   "cell_type": "code",
   "execution_count": 18,
   "id": "3e4dfdbf-ab07-40c6-bf6a-5124d1a737bc",
   "metadata": {},
   "outputs": [],
   "source": [
    "natural_num=[i for i in range(1,10)]"
   ]
  },
  {
   "cell_type": "code",
   "execution_count": 19,
   "id": "8dd0f4fd-565d-47b7-9324-acf4f7fd758f",
   "metadata": {},
   "outputs": [
    {
     "data": {
      "text/plain": [
       "[1, 2, 3, 4, 5, 6, 7, 8, 9]"
      ]
     },
     "execution_count": 19,
     "metadata": {},
     "output_type": "execute_result"
    }
   ],
   "source": [
    "natural_num"
   ]
  },
  {
   "cell_type": "markdown",
   "id": "16d139c2-9238-4ff6-88d9-6534e3457bb9",
   "metadata": {},
   "source": [
    "Generate a list of cubes of numbers from 1 to 10."
   ]
  },
  {
   "cell_type": "code",
   "execution_count": 21,
   "id": "139093bf-6195-4b60-b57f-4a2e5fa0597b",
   "metadata": {},
   "outputs": [],
   "source": [
    "cubes =[i**3 for i in range(1,10)]"
   ]
  },
  {
   "cell_type": "code",
   "execution_count": 22,
   "id": "5dc28dfe-3c23-4d5b-b400-a2c64333368e",
   "metadata": {},
   "outputs": [
    {
     "data": {
      "text/plain": [
       "[1, 8, 27, 64, 125, 216, 343, 512, 729]"
      ]
     },
     "execution_count": 22,
     "metadata": {},
     "output_type": "execute_result"
    }
   ],
   "source": [
    "cubes"
   ]
  },
  {
   "cell_type": "markdown",
   "id": "bbc73c2b-4d0f-4019-97e2-d4387c1a3a03",
   "metadata": {},
   "source": [
    "**Given a string \"Python is fun\", create a list of words in the string.**"
   ]
  },
  {
   "cell_type": "code",
   "execution_count": 1,
   "id": "0c9bcbfa-5615-489f-81b7-b7ced2b662ba",
   "metadata": {},
   "outputs": [],
   "source": [
    "s = \"python is fun\""
   ]
  },
  {
   "cell_type": "code",
   "execution_count": 3,
   "id": "09f7bef2-40bc-4a7e-82d6-1bbe76497044",
   "metadata": {},
   "outputs": [
    {
     "name": "stdout",
     "output_type": "stream",
     "text": [
      "['python', 'is', 'fun']\n"
     ]
    }
   ],
   "source": [
    "words = [w for w in s.split()]\n",
    "print(words)"
   ]
  },
  {
   "cell_type": "markdown",
   "id": "e29c4430-1c7c-4ad1-97df-cd6099c1982d",
   "metadata": {},
   "source": [
    "**Convert a list of strings [\"Hello\", \"World\", \"Python\"] to uppercase using list comprehension.**"
   ]
  },
  {
   "cell_type": "code",
   "execution_count": 10,
   "id": "526847fa-8dd7-4e8a-b1c5-404b1fad3160",
   "metadata": {},
   "outputs": [],
   "source": [
    "words = [\"Hello\", \"World\", \"Python\"] "
   ]
  },
  {
   "cell_type": "code",
   "execution_count": 12,
   "id": "3769dcfc-34ad-43bb-85cf-df2d0a070114",
   "metadata": {},
   "outputs": [
    {
     "name": "stdout",
     "output_type": "stream",
     "text": [
      "['HELLO', 'WORLD', 'PYTHON']\n"
     ]
    }
   ],
   "source": [
    "upper_words = [w.upper() for w in words]\n",
    "print(upper_words)"
   ]
  },
  {
   "cell_type": "markdown",
   "id": "dd6afe67-5f07-4906-a8f3-d5d063c92297",
   "metadata": {},
   "source": [
    "**Create a list of numbers from 1 to 50 that are divisible by both 3 and 5.**"
   ]
  },
  {
   "cell_type": "code",
   "execution_count": 13,
   "id": "248a3733-d01f-4b14-80b9-7581583657f6",
   "metadata": {},
   "outputs": [],
   "source": [
    "s = [i for i in range(1,50 ) if i%3==0 and i%5==0]"
   ]
  },
  {
   "cell_type": "code",
   "execution_count": 14,
   "id": "2e748ee5-7067-4087-a538-20788691f82a",
   "metadata": {},
   "outputs": [
    {
     "data": {
      "text/plain": [
       "[15, 30, 45]"
      ]
     },
     "execution_count": 14,
     "metadata": {},
     "output_type": "execute_result"
    }
   ],
   "source": [
    "s"
   ]
  },
  {
   "cell_type": "markdown",
   "id": "662ddaa9-af2b-4185-9307-8f1baaffc1d5",
   "metadata": {},
   "source": [
    "**Given a list of numbers [1, 2, 3, 4, 5, 6, 7, 8, 9, 10], create a new list containing only the odd numbers.**"
   ]
  },
  {
   "cell_type": "code",
   "execution_count": 16,
   "id": "3e6491f8-3a6c-4600-acc5-8137e8f4b343",
   "metadata": {},
   "outputs": [],
   "source": [
    "l = [1, 2, 3, 4, 5, 6, 7, 8, 9, 10]"
   ]
  },
  {
   "cell_type": "code",
   "execution_count": 17,
   "id": "ed4beda0-9806-4d34-8e03-502eb43771df",
   "metadata": {},
   "outputs": [
    {
     "data": {
      "text/plain": [
       "[1, 3, 5, 7, 9]"
      ]
     },
     "execution_count": 17,
     "metadata": {},
     "output_type": "execute_result"
    }
   ],
   "source": [
    "[ i for i in l if i%2!=0]"
   ]
  },
  {
   "cell_type": "markdown",
   "id": "9a84737e-36e2-404d-9d6b-9408fe841ca8",
   "metadata": {},
   "source": [
    "**given a string \"hello world\", create a list of vowels present in the string.**"
   ]
  },
  {
   "cell_type": "code",
   "execution_count": 19,
   "id": "5a0b5882-ceb9-471a-b842-eaf592d5d1a3",
   "metadata": {},
   "outputs": [
    {
     "name": "stdout",
     "output_type": "stream",
     "text": [
      "['e', 'o', 'o']\n"
     ]
    }
   ],
   "source": [
    "text = \"hello world\"\n",
    "vowels = [ch for ch in text if ch in \"aeiou\"]\n",
    "print(vowels)\n"
   ]
  },
  {
   "cell_type": "markdown",
   "id": "248c2f40-c66a-424a-8ccc-9eecb480e61d",
   "metadata": {},
   "source": [
    "**Convert a list of words [\"Hello\", \"WORLD\", \"Python\", \"LiSt\"] to lowercase using list comprehension.**"
   ]
  },
  {
   "cell_type": "code",
   "execution_count": 21,
   "id": "1b7f6a0f-0343-4f11-9839-bd213c601f10",
   "metadata": {},
   "outputs": [],
   "source": [
    "words = [\"Hello\", \"WORLD\", \"Python\", \"LiSt\"]"
   ]
  },
  {
   "cell_type": "code",
   "execution_count": 22,
   "id": "1372d6e7-452e-4c83-aba7-f1f2da249059",
   "metadata": {},
   "outputs": [],
   "source": [
    "lower_case = [w.lower() for w in words]"
   ]
  },
  {
   "cell_type": "code",
   "execution_count": 24,
   "id": "258a78c0-f4fc-44e2-9cb9-a43c5d485a63",
   "metadata": {},
   "outputs": [
    {
     "data": {
      "text/plain": [
       "['hello', 'world', 'python', 'list']"
      ]
     },
     "execution_count": 24,
     "metadata": {},
     "output_type": "execute_result"
    }
   ],
   "source": [
    "lower_case"
   ]
  },
  {
   "cell_type": "markdown",
   "id": "11ee8ebc-3b3a-4bb8-858b-453b1391b1c7",
   "metadata": {},
   "source": [
    "**Create a list of even numbers from 1 to 50.**"
   ]
  },
  {
   "cell_type": "code",
   "execution_count": 25,
   "id": "a6b74443-679f-4273-9771-99cc9d6e32ca",
   "metadata": {},
   "outputs": [
    {
     "data": {
      "text/plain": [
       "[2,\n",
       " 4,\n",
       " 6,\n",
       " 8,\n",
       " 10,\n",
       " 12,\n",
       " 14,\n",
       " 16,\n",
       " 18,\n",
       " 20,\n",
       " 22,\n",
       " 24,\n",
       " 26,\n",
       " 28,\n",
       " 30,\n",
       " 32,\n",
       " 34,\n",
       " 36,\n",
       " 38,\n",
       " 40,\n",
       " 42,\n",
       " 44,\n",
       " 46,\n",
       " 48]"
      ]
     },
     "execution_count": 25,
     "metadata": {},
     "output_type": "execute_result"
    }
   ],
   "source": [
    "[ i for i in range (1,50) if i%2==0]"
   ]
  },
  {
   "cell_type": "markdown",
   "id": "43a69853-660e-4367-a125-12d7ece0642f",
   "metadata": {},
   "source": [
    "**Generate a list of numbers from 1 to 20 that are not divisible by 3.**"
   ]
  },
  {
   "cell_type": "code",
   "execution_count": 3,
   "id": "9359ee62-4a5a-4491-a1b8-e122c893ca40",
   "metadata": {},
   "outputs": [],
   "source": [
    "s = [i for i in range(1,20) if i%3!=0]"
   ]
  },
  {
   "cell_type": "code",
   "execution_count": 4,
   "id": "271cae56-b95e-497e-b3b2-dcfecaaddb9f",
   "metadata": {},
   "outputs": [
    {
     "data": {
      "text/plain": [
       "[1, 2, 4, 5, 7, 8, 10, 11, 13, 14, 16, 17, 19]"
      ]
     },
     "execution_count": 4,
     "metadata": {},
     "output_type": "execute_result"
    }
   ],
   "source": [
    "s"
   ]
  },
  {
   "cell_type": "markdown",
   "id": "431d052d-b312-477f-b07e-714e5a563fc1",
   "metadata": {},
   "source": [
    "**Given a list [5, 12, 17, 9, 3, 21, 30], create a new list containing only numbers greater than 10.**"
   ]
  },
  {
   "cell_type": "code",
   "execution_count": 5,
   "id": "e1140f59-89c8-4653-af43-3b5c6096325d",
   "metadata": {},
   "outputs": [],
   "source": [
    "l = [5, 12, 17, 9, 3, 21, 30] "
   ]
  },
  {
   "cell_type": "code",
   "execution_count": 7,
   "id": "03c1bb1b-768c-4ea4-adef-3199d3cbe596",
   "metadata": {},
   "outputs": [],
   "source": [
    "g=[i for i in l if i>10]"
   ]
  },
  {
   "cell_type": "code",
   "execution_count": 8,
   "id": "ed37fe53-a38b-4671-a553-adf0f7cfdd33",
   "metadata": {},
   "outputs": [
    {
     "data": {
      "text/plain": [
       "[12, 17, 21, 30]"
      ]
     },
     "execution_count": 8,
     "metadata": {},
     "output_type": "execute_result"
    }
   ],
   "source": [
    "g"
   ]
  },
  {
   "cell_type": "markdown",
   "id": "9a76ae53-2438-4733-8799-77e1b705ccd0",
   "metadata": {},
   "source": [
    "**Create a list of squares of only the even numbers from 1 to 10.**"
   ]
  },
  {
   "cell_type": "code",
   "execution_count": 12,
   "id": "8dc356c5-c2e9-4a31-94c5-d81fad2c1701",
   "metadata": {},
   "outputs": [
    {
     "data": {
      "text/plain": [
       "[4, 16, 36, 64]"
      ]
     },
     "execution_count": 12,
     "metadata": {},
     "output_type": "execute_result"
    }
   ],
   "source": [
    "[i**2 for i in range(1,10) if i%2==0]"
   ]
  },
  {
   "cell_type": "markdown",
   "id": "75b1d520-b7f6-4091-b4c8-399908727318",
   "metadata": {},
   "source": [
    "**Given a list of words [\"dog\", \"elephant\", \"cat\", \"rabbit\"], create a new list containing only words with more than 3 letters.**"
   ]
  },
  {
   "cell_type": "code",
   "execution_count": 13,
   "id": "6f439886-06ff-44d6-8991-8a12ae9fe4d0",
   "metadata": {},
   "outputs": [],
   "source": [
    "j = [\"dog\", \"elephant\", \"cat\", \"rabbit\"]"
   ]
  },
  {
   "cell_type": "code",
   "execution_count": 15,
   "id": "710c7567-fc7d-4c1c-b0a1-e52adff928b8",
   "metadata": {},
   "outputs": [
    {
     "ename": "SyntaxError",
     "evalue": "expected 'else' after 'if' expression (2711704422.py, line 1)",
     "output_type": "error",
     "traceback": [
      "  \u001b[36mCell\u001b[39m\u001b[36m \u001b[39m\u001b[32mIn[15]\u001b[39m\u001b[32m, line 1\u001b[39m\n\u001b[31m    \u001b[39m\u001b[31mm = [w in j if w[i]>3]\u001b[39m\n         ^\n\u001b[31mSyntaxError\u001b[39m\u001b[31m:\u001b[39m expected 'else' after 'if' expression\n"
     ]
    }
   ],
   "source": [
    "m = [w in j if w[i]>3]"
   ]
  },
  {
   "cell_type": "code",
   "execution_count": null,
   "id": "65b5f475-cfd9-4c8c-8329-51835fe32858",
   "metadata": {},
   "outputs": [],
   "source": []
  }
 ],
 "metadata": {
  "kernelspec": {
   "display_name": "Python 3 (ipykernel)",
   "language": "python",
   "name": "python3"
  },
  "language_info": {
   "codemirror_mode": {
    "name": "ipython",
    "version": 3
   },
   "file_extension": ".py",
   "mimetype": "text/x-python",
   "name": "python",
   "nbconvert_exporter": "python",
   "pygments_lexer": "ipython3",
   "version": "3.12.1"
  }
 },
 "nbformat": 4,
 "nbformat_minor": 5
}
